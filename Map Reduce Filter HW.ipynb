{
 "cells": [
  {
   "cell_type": "code",
   "execution_count": null,
   "id": "bb88f5e7-9603-4218-8932-bf999f70d6a6",
   "metadata": {},
   "outputs": [],
   "source": []
  },
  {
   "cell_type": "code",
   "execution_count": 3,
   "id": "9c6fc394-4ee1-4d35-b108-cf9b74564059",
   "metadata": {},
   "outputs": [],
   "source": [
    "def m1(a):\n",
    "    return a+1"
   ]
  },
  {
   "cell_type": "code",
   "execution_count": 4,
   "id": "230d5fac-cf88-4830-94dd-c8e50bce7420",
   "metadata": {},
   "outputs": [
    {
     "data": {
      "text/plain": [
       "<map at 0x7f89980c4190>"
      ]
     },
     "execution_count": 4,
     "metadata": {},
     "output_type": "execute_result"
    }
   ],
   "source": [
    "map(m1,[1,2,3,4,5])"
   ]
  },
  {
   "cell_type": "code",
   "execution_count": 5,
   "id": "a50eb143-0c7d-4f05-935b-142f719b29bf",
   "metadata": {},
   "outputs": [
    {
     "data": {
      "text/plain": [
       "[2, 3, 4, 5, 6]"
      ]
     },
     "execution_count": 5,
     "metadata": {},
     "output_type": "execute_result"
    }
   ],
   "source": [
    "list(map(m1,[1,2,3,4,5]))"
   ]
  },
  {
   "cell_type": "code",
   "execution_count": 8,
   "id": "6c67ea9e-ecc9-46fa-aca6-3a52ab73b10d",
   "metadata": {},
   "outputs": [],
   "source": [
    "def m2(a,b):\n",
    "    return a+b"
   ]
  },
  {
   "cell_type": "code",
   "execution_count": 10,
   "id": "6b587d38-87b6-47db-8623-cb677fb1b42e",
   "metadata": {},
   "outputs": [
    {
     "data": {
      "text/plain": [
       "[10, 10, 10, 10]"
      ]
     },
     "execution_count": 10,
     "metadata": {},
     "output_type": "execute_result"
    }
   ],
   "source": [
    "list(map(m2,[1,2,3,4,5],[9,8,7,6]))"
   ]
  },
  {
   "cell_type": "code",
   "execution_count": 12,
   "id": "5f767404-117f-4258-8be9-aedf0086ed26",
   "metadata": {},
   "outputs": [
    {
     "data": {
      "text/plain": [
       "[7, 2]"
      ]
     },
     "execution_count": 12,
     "metadata": {},
     "output_type": "execute_result"
    }
   ],
   "source": [
    "list(map(lambda a,b:a+b,[1,2,3,4],[6,0]))"
   ]
  },
  {
   "cell_type": "code",
   "execution_count": 13,
   "id": "551614ed-f968-4b78-85e2-276e3626d889",
   "metadata": {},
   "outputs": [
    {
     "data": {
      "text/plain": [
       "map"
      ]
     },
     "execution_count": 13,
     "metadata": {},
     "output_type": "execute_result"
    }
   ],
   "source": [
    "type(map(lambda a,b:a+b,[1,2,3,4],[6,0]))"
   ]
  },
  {
   "cell_type": "code",
   "execution_count": 14,
   "id": "7f574ac0-5924-454d-b394-e77be7058a45",
   "metadata": {},
   "outputs": [
    {
     "data": {
      "text/plain": [
       "['L', 'E', 'A', 'R', 'N', 'I', 'N', 'G']"
      ]
     },
     "execution_count": 14,
     "metadata": {},
     "output_type": "execute_result"
    }
   ],
   "source": [
    "str ='Learning'\n",
    "list(map(lambda s:s.upper(),str))"
   ]
  },
  {
   "cell_type": "code",
   "execution_count": 17,
   "id": "d6d0d7f2-3a4e-45cd-8f15-90eef7805c11",
   "metadata": {},
   "outputs": [],
   "source": [
    "from functools import reduce"
   ]
  },
  {
   "cell_type": "code",
   "execution_count": 18,
   "id": "ba2f00b6-49ac-41d6-b159-94ae19f6b7c4",
   "metadata": {},
   "outputs": [],
   "source": [
    "l1=[1,2,3,5,2]"
   ]
  },
  {
   "cell_type": "code",
   "execution_count": 22,
   "id": "83962a82-7de4-44cf-aa58-cc60ba71124d",
   "metadata": {},
   "outputs": [
    {
     "data": {
      "text/plain": [
       "60"
      ]
     },
     "execution_count": 22,
     "metadata": {},
     "output_type": "execute_result"
    }
   ],
   "source": [
    "reduce(lambda x,y:x*y,l1)"
   ]
  },
  {
   "cell_type": "code",
   "execution_count": 27,
   "id": "019260a0-325b-475b-908d-010193811aaf",
   "metadata": {},
   "outputs": [],
   "source": [
    "l2 =[1,3,5.9,\"Test\",False,(1,6),{\"a\":7,\"b\":8},True]"
   ]
  },
  {
   "cell_type": "code",
   "execution_count": 25,
   "id": "54863853-6b87-42b6-aa27-05b6faf13c63",
   "metadata": {},
   "outputs": [
    {
     "data": {
      "text/plain": [
       "<filter at 0x7f8981ee3be0>"
      ]
     },
     "execution_count": 25,
     "metadata": {},
     "output_type": "execute_result"
    }
   ],
   "source": [
    "filter(lambda x:type(x)==bool,l2)"
   ]
  },
  {
   "cell_type": "code",
   "execution_count": 28,
   "id": "5c964977-e0d4-4ce9-8a3f-026fcea6a5cb",
   "metadata": {},
   "outputs": [
    {
     "data": {
      "text/plain": [
       "[False, True]"
      ]
     },
     "execution_count": 28,
     "metadata": {},
     "output_type": "execute_result"
    }
   ],
   "source": [
    "list(filter(lambda x:type(x)==bool,l2))"
   ]
  },
  {
   "cell_type": "code",
   "execution_count": 29,
   "id": "7a2e01b5-d295-4487-b60e-55cfe2b6202b",
   "metadata": {},
   "outputs": [
    {
     "data": {
      "text/plain": [
       "[{'a': 7, 'b': 8}]"
      ]
     },
     "execution_count": 29,
     "metadata": {},
     "output_type": "execute_result"
    }
   ],
   "source": [
    "list(filter(lambda x:type(x)==dict,l2))"
   ]
  },
  {
   "cell_type": "code",
   "execution_count": 30,
   "id": "9b258a70-d645-48da-8d87-c0b62ce138ca",
   "metadata": {},
   "outputs": [
    {
     "data": {
      "text/plain": [
       "({'a': 7, 'b': 8},)"
      ]
     },
     "execution_count": 30,
     "metadata": {},
     "output_type": "execute_result"
    }
   ],
   "source": [
    "tuple(filter(lambda x:type(x)==dict,l2))"
   ]
  },
  {
   "cell_type": "code",
   "execution_count": 31,
   "id": "71128fc7-22b6-4f11-a6b8-f7d87d84ee56",
   "metadata": {},
   "outputs": [
    {
     "data": {
      "text/plain": [
       "{'a': 'b'}"
      ]
     },
     "execution_count": 31,
     "metadata": {},
     "output_type": "execute_result"
    }
   ],
   "source": [
    "dict(filter(lambda x:type(x)==dict,l2))"
   ]
  },
  {
   "cell_type": "code",
   "execution_count": null,
   "id": "9e7fe296-806f-48d2-93a5-d9c04049de12",
   "metadata": {},
   "outputs": [],
   "source": [
    "filter"
   ]
  }
 ],
 "metadata": {
  "kernelspec": {
   "display_name": "Python 3 (ipykernel)",
   "language": "python",
   "name": "python3"
  },
  "language_info": {
   "codemirror_mode": {
    "name": "ipython",
    "version": 3
   },
   "file_extension": ".py",
   "mimetype": "text/x-python",
   "name": "python",
   "nbconvert_exporter": "python",
   "pygments_lexer": "ipython3",
   "version": "3.10.8"
  }
 },
 "nbformat": 4,
 "nbformat_minor": 5
}
