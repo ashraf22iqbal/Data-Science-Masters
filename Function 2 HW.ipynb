{
 "cells": [
  {
   "cell_type": "code",
   "execution_count": 1,
   "id": "d4d04772-2f47-44b8-af69-fed66a97ef85",
   "metadata": {},
   "outputs": [],
   "source": [
    "def m1(*my_args):\n",
    "    return my_args"
   ]
  },
  {
   "cell_type": "code",
   "execution_count": 2,
   "id": "61ac94db-688c-432e-9b25-36fbb05bfdb2",
   "metadata": {},
   "outputs": [
    {
     "data": {
      "text/plain": [
       "(1, 2, 23, 4)"
      ]
     },
     "execution_count": 2,
     "metadata": {},
     "output_type": "execute_result"
    }
   ],
   "source": [
    "m1(1,2,23,4)"
   ]
  },
  {
   "cell_type": "code",
   "execution_count": 3,
   "id": "15403979-c47e-4632-aeb5-85ea88a29c24",
   "metadata": {},
   "outputs": [
    {
     "data": {
      "text/plain": [
       "(2, 'Test', False, [1, 5], (7, 0))"
      ]
     },
     "execution_count": 3,
     "metadata": {},
     "output_type": "execute_result"
    }
   ],
   "source": [
    "m1(2,'Test',False,[1,5],(7,0))"
   ]
  },
  {
   "cell_type": "code",
   "execution_count": 6,
   "id": "6361f241-0d33-4eab-b056-81571d64f202",
   "metadata": {},
   "outputs": [],
   "source": [
    "def m2(*my_args,a):\n",
    "    return my_args,a"
   ]
  },
  {
   "cell_type": "code",
   "execution_count": 7,
   "id": "01f84b49-64b0-4fe3-91bf-0083e5f46318",
   "metadata": {},
   "outputs": [
    {
     "ename": "TypeError",
     "evalue": "m2() missing 1 required keyword-only argument: 'a'",
     "output_type": "error",
     "traceback": [
      "\u001b[0;31m---------------------------------------------------------------------------\u001b[0m",
      "\u001b[0;31mTypeError\u001b[0m                                 Traceback (most recent call last)",
      "Cell \u001b[0;32mIn[7], line 1\u001b[0m\n\u001b[0;32m----> 1\u001b[0m \u001b[43mm2\u001b[49m\u001b[43m(\u001b[49m\u001b[38;5;241;43m3\u001b[39;49m\u001b[43m,\u001b[49m\u001b[38;5;241;43m4\u001b[39;49m\u001b[43m,\u001b[49m\u001b[38;5;241;43m5\u001b[39;49m\u001b[43m)\u001b[49m\n",
      "\u001b[0;31mTypeError\u001b[0m: m2() missing 1 required keyword-only argument: 'a'"
     ]
    }
   ],
   "source": [
    "m2(3,4,5)"
   ]
  },
  {
   "cell_type": "code",
   "execution_count": 8,
   "id": "177854b9-e222-4c8a-a756-b28ee1e51819",
   "metadata": {},
   "outputs": [
    {
     "data": {
      "text/plain": [
       "((3, 4, 5), False)"
      ]
     },
     "execution_count": 8,
     "metadata": {},
     "output_type": "execute_result"
    }
   ],
   "source": [
    "m2(3,4,5,a=False)"
   ]
  },
  {
   "cell_type": "code",
   "execution_count": 9,
   "id": "88b2a3fc-0dfa-4ab4-8fbb-bac576056f55",
   "metadata": {},
   "outputs": [],
   "source": [
    "def m3(**key_value_args):\n",
    "    return key_value_args\n"
   ]
  },
  {
   "cell_type": "code",
   "execution_count": 11,
   "id": "11035fe8-bb30-4e48-90e3-5fe330b20f37",
   "metadata": {},
   "outputs": [
    {
     "ename": "TypeError",
     "evalue": "m3() takes 0 positional arguments but 1 was given",
     "output_type": "error",
     "traceback": [
      "\u001b[0;31m---------------------------------------------------------------------------\u001b[0m",
      "\u001b[0;31mTypeError\u001b[0m                                 Traceback (most recent call last)",
      "Cell \u001b[0;32mIn[11], line 1\u001b[0m\n\u001b[0;32m----> 1\u001b[0m \u001b[43mm3\u001b[49m\u001b[43m(\u001b[49m\u001b[43m{\u001b[49m\u001b[38;5;124;43m'\u001b[39;49m\u001b[38;5;124;43ma\u001b[39;49m\u001b[38;5;124;43m'\u001b[39;49m\u001b[43m:\u001b[49m\u001b[38;5;241;43m56\u001b[39;49m\u001b[43m,\u001b[49m\u001b[38;5;124;43m'\u001b[39;49m\u001b[38;5;124;43mb\u001b[39;49m\u001b[38;5;124;43m'\u001b[39;49m\u001b[43m:\u001b[49m\u001b[43m[\u001b[49m\u001b[38;5;241;43m1\u001b[39;49m\u001b[43m,\u001b[49m\u001b[38;5;241;43m2\u001b[39;49m\u001b[43m,\u001b[49m\u001b[38;5;241;43m3\u001b[39;49m\u001b[43m]\u001b[49m\u001b[43m,\u001b[49m\u001b[38;5;124;43m'\u001b[39;49m\u001b[38;5;124;43mc\u001b[39;49m\u001b[38;5;124;43m'\u001b[39;49m\u001b[43m:\u001b[49m\u001b[43m(\u001b[49m\u001b[38;5;241;43m3\u001b[39;49m\u001b[43m,\u001b[49m\u001b[38;5;124;43m'\u001b[39;49m\u001b[38;5;124;43mTest\u001b[39;49m\u001b[38;5;124;43m'\u001b[39;49m\u001b[43m)\u001b[49m\u001b[43m}\u001b[49m\u001b[43m)\u001b[49m\n",
      "\u001b[0;31mTypeError\u001b[0m: m3() takes 0 positional arguments but 1 was given"
     ]
    }
   ],
   "source": [
    "m3()"
   ]
  },
  {
   "cell_type": "code",
   "execution_count": 16,
   "id": "b0e70ae4-c349-4774-9b5d-fcfc5a5ad6ae",
   "metadata": {},
   "outputs": [
    {
     "ename": "SyntaxError",
     "evalue": "cannot assign to literal here. Maybe you meant '==' instead of '='? (3437828133.py, line 1)",
     "output_type": "error",
     "traceback": [
      "\u001b[0;36m  Cell \u001b[0;32mIn[16], line 1\u001b[0;36m\u001b[0m\n\u001b[0;31m    d1 ={'a'=56,'b'=[1,2,3],'c'=(3,'Test')}\u001b[0m\n\u001b[0m         ^\u001b[0m\n\u001b[0;31mSyntaxError\u001b[0m\u001b[0;31m:\u001b[0m cannot assign to literal here. Maybe you meant '==' instead of '='?\n"
     ]
    }
   ],
   "source": [
    "d1 ={'a'=56,'b'=[1,2,3],'c'=(3,'Test')}"
   ]
  },
  {
   "cell_type": "code",
   "execution_count": 14,
   "id": "a9f71d79-695f-46cb-b4e7-e77e16c18686",
   "metadata": {},
   "outputs": [
    {
     "ename": "TypeError",
     "evalue": "m3() takes 0 positional arguments but 1 was given",
     "output_type": "error",
     "traceback": [
      "\u001b[0;31m---------------------------------------------------------------------------\u001b[0m",
      "\u001b[0;31mTypeError\u001b[0m                                 Traceback (most recent call last)",
      "Cell \u001b[0;32mIn[14], line 1\u001b[0m\n\u001b[0;32m----> 1\u001b[0m \u001b[43mm3\u001b[49m\u001b[43m(\u001b[49m\u001b[43md1\u001b[49m\u001b[43m)\u001b[49m\n",
      "\u001b[0;31mTypeError\u001b[0m: m3() takes 0 positional arguments but 1 was given"
     ]
    }
   ],
   "source": [
    "m3(d1)"
   ]
  },
  {
   "cell_type": "code",
   "execution_count": 17,
   "id": "c655ef6d-7b59-46ec-87d2-c3dd979fc46e",
   "metadata": {},
   "outputs": [
    {
     "ename": "SyntaxError",
     "evalue": "expression cannot contain assignment, perhaps you meant \"==\"? (2618018237.py, line 1)",
     "output_type": "error",
     "traceback": [
      "\u001b[0;36m  Cell \u001b[0;32mIn[17], line 1\u001b[0;36m\u001b[0m\n\u001b[0;31m    m3('a'=56,'b'=[1,2,3],'c'=(3,'Test'))\u001b[0m\n\u001b[0m       ^\u001b[0m\n\u001b[0;31mSyntaxError\u001b[0m\u001b[0;31m:\u001b[0m expression cannot contain assignment, perhaps you meant \"==\"?\n"
     ]
    }
   ],
   "source": [
    "m3('a'=56,'b'=[1,2,3],'c'=(3,'Test'))"
   ]
  },
  {
   "cell_type": "code",
   "execution_count": 18,
   "id": "42c5ed73-451a-45bb-a6c2-15a3ab861124",
   "metadata": {},
   "outputs": [
    {
     "ename": "SyntaxError",
     "evalue": "invalid syntax (1302828453.py, line 1)",
     "output_type": "error",
     "traceback": [
      "\u001b[0;36m  Cell \u001b[0;32mIn[18], line 1\u001b[0;36m\u001b[0m\n\u001b[0;31m    m3('a':56,'b':[1,2,3],'c':(3,'Test'))\u001b[0m\n\u001b[0m          ^\u001b[0m\n\u001b[0;31mSyntaxError\u001b[0m\u001b[0;31m:\u001b[0m invalid syntax\n"
     ]
    }
   ],
   "source": [
    "m3('a':56,'b':[1,2,3],'c':(3,'Test'))"
   ]
  },
  {
   "cell_type": "code",
   "execution_count": 19,
   "id": "da848ba3-9506-452d-86a2-1904f4921237",
   "metadata": {},
   "outputs": [
    {
     "data": {
      "text/plain": [
       "{'a': 56, 'b': [1, 2, 3], 'c': (3, 'Test')}"
      ]
     },
     "execution_count": 19,
     "metadata": {},
     "output_type": "execute_result"
    }
   ],
   "source": [
    "m3(a=56,b=[1,2,3],c=(3,'Test'))"
   ]
  },
  {
   "cell_type": "code",
   "execution_count": 22,
   "id": "938273c1-5d2f-4d99-b4eb-f2e532037a56",
   "metadata": {},
   "outputs": [],
   "source": [
    "def m4(**my_map_args):\n",
    "    for i in my_map_args.keys():\n",
    "        if type(my_map_args[i]) == list:\n",
    "            return i,my_map_args[i]"
   ]
  },
  {
   "cell_type": "code",
   "execution_count": 23,
   "id": "be3f9b15-4c85-4a60-bece-8c835c3bf1da",
   "metadata": {},
   "outputs": [
    {
     "data": {
      "text/plain": [
       "('b', [1, 2, 3])"
      ]
     },
     "execution_count": 23,
     "metadata": {},
     "output_type": "execute_result"
    }
   ],
   "source": [
    "m4(a=56,b=[1,2,3],c=(3,'Test'))"
   ]
  },
  {
   "cell_type": "code",
   "execution_count": 26,
   "id": "04eae500-6057-4cc0-9509-c4dd6c5f86c2",
   "metadata": {},
   "outputs": [],
   "source": [
    "def m5 (*arg,**map_arg):\n",
    "    return map_arg,arg"
   ]
  },
  {
   "cell_type": "markdown",
   "id": "2a794b54-6dc9-4307-860e-0d08c7b6e8b5",
   "metadata": {},
   "source": [
    "m4(1,2,3,5,a=10,b=False)"
   ]
  },
  {
   "cell_type": "code",
   "execution_count": 25,
   "id": "d0c0b073-42a0-42f6-ae95-8569ccf5be9c",
   "metadata": {},
   "outputs": [
    {
     "data": {
      "text/plain": [
       "({'a': 10, 'b': False}, (1, 2, 3, 5))"
      ]
     },
     "execution_count": 25,
     "metadata": {},
     "output_type": "execute_result"
    }
   ],
   "source": [
    "m4(1,2,3,5,a=10,b=False)"
   ]
  },
  {
   "cell_type": "code",
   "execution_count": 27,
   "id": "400000db-8a66-4158-8c76-79d35e6a673d",
   "metadata": {},
   "outputs": [
    {
     "data": {
      "text/plain": [
       "({'a': 10, 'b': False}, (1, 2, 3, 5))"
      ]
     },
     "execution_count": 27,
     "metadata": {},
     "output_type": "execute_result"
    }
   ],
   "source": [
    "m5(1,2,3,5,a=10,b=False)"
   ]
  },
  {
   "cell_type": "code",
   "execution_count": null,
   "id": "ffbc3b71-28ba-48d4-a6dc-0a3bf4735095",
   "metadata": {},
   "outputs": [],
   "source": []
  }
 ],
 "metadata": {
  "kernelspec": {
   "display_name": "Python 3 (ipykernel)",
   "language": "python",
   "name": "python3"
  },
  "language_info": {
   "codemirror_mode": {
    "name": "ipython",
    "version": 3
   },
   "file_extension": ".py",
   "mimetype": "text/x-python",
   "name": "python",
   "nbconvert_exporter": "python",
   "pygments_lexer": "ipython3",
   "version": "3.10.8"
  }
 },
 "nbformat": 4,
 "nbformat_minor": 5
}
