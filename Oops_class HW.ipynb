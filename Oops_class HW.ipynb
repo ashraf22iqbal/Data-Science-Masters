{
 "cells": [
  {
   "cell_type": "code",
   "execution_count": 1,
   "id": "a1ef5a0d-c0a5-4601-be01-31d2d18bb401",
   "metadata": {},
   "outputs": [
    {
     "name": "stdout",
     "output_type": "stream",
     "text": [
      "<class 'int'>\n"
     ]
    }
   ],
   "source": [
    "print(type(2))"
   ]
  },
  {
   "cell_type": "code",
   "execution_count": 2,
   "id": "aa817b29-2fea-46c8-8635-370358707ba1",
   "metadata": {},
   "outputs": [
    {
     "data": {
      "text/plain": [
       "int"
      ]
     },
     "execution_count": 2,
     "metadata": {},
     "output_type": "execute_result"
    }
   ],
   "source": [
    "type(2)"
   ]
  },
  {
   "cell_type": "code",
   "execution_count": 3,
   "id": "36d11be5-2df0-484a-a725-e67eda896667",
   "metadata": {},
   "outputs": [
    {
     "ename": "SyntaxError",
     "evalue": "incomplete input (1880580723.py, line 2)",
     "output_type": "error",
     "traceback": [
      "\u001b[0;36m  Cell \u001b[0;32mIn[3], line 2\u001b[0;36m\u001b[0m\n\u001b[0;31m    \u001b[0m\n\u001b[0m    ^\u001b[0m\n\u001b[0;31mSyntaxError\u001b[0m\u001b[0;31m:\u001b[0m incomplete input\n"
     ]
    }
   ],
   "source": [
    "class cls1:\n",
    "    "
   ]
  },
  {
   "cell_type": "code",
   "execution_count": 4,
   "id": "6dddfc7f-9599-4484-8276-114971a7ebd6",
   "metadata": {},
   "outputs": [],
   "source": [
    "class cls2:\n",
    "    pass"
   ]
  },
  {
   "cell_type": "code",
   "execution_count": 5,
   "id": "65e3f94c-48b1-4b29-be4f-704442ecd5ab",
   "metadata": {},
   "outputs": [
    {
     "ename": "SyntaxError",
     "evalue": "incomplete input (2659080197.py, line 2)",
     "output_type": "error",
     "traceback": [
      "\u001b[0;36m  Cell \u001b[0;32mIn[5], line 2\u001b[0;36m\u001b[0m\n\u001b[0;31m    def m1():\u001b[0m\n\u001b[0m             ^\u001b[0m\n\u001b[0;31mSyntaxError\u001b[0m\u001b[0;31m:\u001b[0m incomplete input\n"
     ]
    }
   ],
   "source": [
    "class cls3:\n",
    "    def m1():"
   ]
  },
  {
   "cell_type": "code",
   "execution_count": 9,
   "id": "08b26a59-f803-44ab-a4b0-3c957ca32399",
   "metadata": {},
   "outputs": [],
   "source": [
    "class cls3:\n",
    "    def m1(self):\n",
    "        pass"
   ]
  },
  {
   "cell_type": "code",
   "execution_count": 7,
   "id": "82b0f77d-27d6-442e-96dd-dff774ec381e",
   "metadata": {},
   "outputs": [],
   "source": [
    "obj1 = cls3()"
   ]
  },
  {
   "cell_type": "code",
   "execution_count": 10,
   "id": "17128827-6ff1-4ed4-9d3f-22781e9d2860",
   "metadata": {},
   "outputs": [
    {
     "ename": "TypeError",
     "evalue": "cls3.m1() takes 0 positional arguments but 1 was given",
     "output_type": "error",
     "traceback": [
      "\u001b[0;31m---------------------------------------------------------------------------\u001b[0m",
      "\u001b[0;31mTypeError\u001b[0m                                 Traceback (most recent call last)",
      "Cell \u001b[0;32mIn[10], line 1\u001b[0m\n\u001b[0;32m----> 1\u001b[0m \u001b[43mobj1\u001b[49m\u001b[38;5;241;43m.\u001b[39;49m\u001b[43mm1\u001b[49m\u001b[43m(\u001b[49m\u001b[43m)\u001b[49m\n",
      "\u001b[0;31mTypeError\u001b[0m: cls3.m1() takes 0 positional arguments but 1 was given"
     ]
    }
   ],
   "source": [
    "obj1.m1()"
   ]
  },
  {
   "cell_type": "code",
   "execution_count": null,
   "id": "dd090210-f108-4341-90df-f0926eb5a4a7",
   "metadata": {},
   "outputs": [],
   "source": []
  },
  {
   "cell_type": "code",
   "execution_count": 17,
   "id": "06642c30-7784-459c-890e-105801bd7e5a",
   "metadata": {},
   "outputs": [],
   "source": [
    "class cls4:\n",
    "    def m2(self,name):\n",
    "        print(f\"Welcome {name} to Data Science\")"
   ]
  },
  {
   "cell_type": "code",
   "execution_count": 12,
   "id": "0f50080f-9b4f-46d0-9a5c-81bf3274a8c3",
   "metadata": {},
   "outputs": [
    {
     "name": "stdout",
     "output_type": "stream",
     "text": [
      "Welcome {name} to Data Science\n"
     ]
    }
   ],
   "source": [
    "obj2 = cls4()\n",
    "obj2.m2(\"My Name\")"
   ]
  },
  {
   "cell_type": "code",
   "execution_count": 14,
   "id": "848d9606-1227-4b55-9223-bda9aca3ab2d",
   "metadata": {},
   "outputs": [
    {
     "name": "stdout",
     "output_type": "stream",
     "text": [
      "Welcome {name} to Data Science My Name\n"
     ]
    }
   ],
   "source": [
    "obj2 = cls4()\n",
    "obj2.m2(\"My Name\")"
   ]
  },
  {
   "cell_type": "code",
   "execution_count": 19,
   "id": "bd4eb853-bc16-426f-a4d3-1b418b6f4c82",
   "metadata": {},
   "outputs": [
    {
     "name": "stdout",
     "output_type": "stream",
     "text": [
      "Welcome Raj to Data Science\n"
     ]
    }
   ],
   "source": [
    "obj2 = cls4()\n",
    "obj2.m2(\"Raj\")"
   ]
  },
  {
   "cell_type": "code",
   "execution_count": 10,
   "id": "2105e22e-d941-4c8a-adc4-46ad30e1c664",
   "metadata": {},
   "outputs": [],
   "source": [
    "class Account:\n",
    "    def __init__(self,account_number,bank_name,ifsc):\n",
    "        self.account_number = account_number\n",
    "        self.bank_name = bank_name\n",
    "        self.ifsc = ifsc\n",
    "        \n",
    "    def get_account_details(self):\n",
    "        return self.account_number,self.bank_name,self.ifsc\n",
    "    "
   ]
  },
  {
   "cell_type": "code",
   "execution_count": 2,
   "id": "42893102-f372-4c7e-98dc-764db3bfeeab",
   "metadata": {},
   "outputs": [
    {
     "ename": "TypeError",
     "evalue": "Account.__init__() missing 3 required positional arguments: 'account_number', 'bank_name', and 'ifsc'",
     "output_type": "error",
     "traceback": [
      "\u001b[0;31m---------------------------------------------------------------------------\u001b[0m",
      "\u001b[0;31mTypeError\u001b[0m                                 Traceback (most recent call last)",
      "Cell \u001b[0;32mIn[2], line 1\u001b[0m\n\u001b[0;32m----> 1\u001b[0m acc1 \u001b[38;5;241m=\u001b[39m \u001b[43mAccount\u001b[49m\u001b[43m(\u001b[49m\u001b[43m)\u001b[49m\n",
      "\u001b[0;31mTypeError\u001b[0m: Account.__init__() missing 3 required positional arguments: 'account_number', 'bank_name', and 'ifsc'"
     ]
    }
   ],
   "source": [
    "acc1 = Account()"
   ]
  },
  {
   "cell_type": "code",
   "execution_count": 14,
   "id": "3dbb6589-4564-4cc9-aa67-4f861e504a8e",
   "metadata": {},
   "outputs": [],
   "source": [
    "acc1=Account(12233,\"HDFC\",'HD002')"
   ]
  },
  {
   "cell_type": "code",
   "execution_count": 16,
   "id": "7b22fd0b-e678-4d17-9210-2ad395aa94db",
   "metadata": {},
   "outputs": [
    {
     "data": {
      "text/plain": [
       "(12233, 'HDFC', 'HD002')"
      ]
     },
     "execution_count": 16,
     "metadata": {},
     "output_type": "execute_result"
    }
   ],
   "source": [
    "acc1.get_account_details()"
   ]
  },
  {
   "cell_type": "code",
   "execution_count": 17,
   "id": "c11c87a8-df5c-4461-9a93-27e6d54e1e13",
   "metadata": {},
   "outputs": [
    {
     "data": {
      "text/plain": [
       "12233"
      ]
     },
     "execution_count": 17,
     "metadata": {},
     "output_type": "execute_result"
    }
   ],
   "source": [
    "acc1.account_number"
   ]
  },
  {
   "cell_type": "code",
   "execution_count": 40,
   "id": "dd012fc1-ff73-4c92-ae62-febb3e1e823b",
   "metadata": {},
   "outputs": [],
   "source": [
    "class Account2:\n",
    "    def __init__(abc,account_number,bank_name,ifsc):\n",
    "        abc.number = account_number\n",
    "        abc.name = bank_name\n",
    "        abc.ifsc = ifsc\n",
    "        \n",
    "    def get_account_details(abc):\n",
    "        return abc.number,abc.name,abc.ifsc\n",
    "    "
   ]
  },
  {
   "cell_type": "code",
   "execution_count": 41,
   "id": "1d6209ab-fc38-4b67-97b1-2baddce996ce",
   "metadata": {},
   "outputs": [],
   "source": [
    "acc2 = Account2(34343,\"ICI\",\"ICI434343\")"
   ]
  },
  {
   "cell_type": "code",
   "execution_count": 23,
   "id": "09ee3703-e2a8-4c47-8b3f-825508df03da",
   "metadata": {},
   "outputs": [
    {
     "data": {
      "text/plain": [
       "'ICI434343'"
      ]
     },
     "execution_count": 23,
     "metadata": {},
     "output_type": "execute_result"
    }
   ],
   "source": [
    "acc2.ifsc"
   ]
  },
  {
   "cell_type": "code",
   "execution_count": 42,
   "id": "70084afa-4b35-4e7f-acf4-e4a226e01df7",
   "metadata": {},
   "outputs": [
    {
     "data": {
      "text/plain": [
       "(34343, 'ICI', 'ICI434343')"
      ]
     },
     "execution_count": 42,
     "metadata": {},
     "output_type": "execute_result"
    }
   ],
   "source": [
    "acc2.get_account_details()"
   ]
  },
  {
   "cell_type": "code",
   "execution_count": null,
   "id": "823486da-fdc2-4069-b60c-bd49128f0027",
   "metadata": {},
   "outputs": [],
   "source": []
  }
 ],
 "metadata": {
  "kernelspec": {
   "display_name": "Python 3 (ipykernel)",
   "language": "python",
   "name": "python3"
  },
  "language_info": {
   "codemirror_mode": {
    "name": "ipython",
    "version": 3
   },
   "file_extension": ".py",
   "mimetype": "text/x-python",
   "name": "python",
   "nbconvert_exporter": "python",
   "pygments_lexer": "ipython3",
   "version": "3.10.8"
  }
 },
 "nbformat": 4,
 "nbformat_minor": 5
}
