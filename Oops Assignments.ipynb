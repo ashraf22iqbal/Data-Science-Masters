{
 "cells": [
  {
   "cell_type": "markdown",
   "id": "bf29eff6-3056-451b-8bed-09554ca3e51d",
   "metadata": {},
   "source": [
    "### Q1, Create a vehicle class with an init method having instance variables as name_of_vehicle, max_speed and average_of_vehicle."
   ]
  },
  {
   "cell_type": "code",
   "execution_count": null,
   "id": "054ac730-69a2-4372-888a-5215e4963570",
   "metadata": {},
   "outputs": [],
   "source": [
    "class vehicle:\n",
    "    def __init__(self,name_of_vehicle,max_speed,avg_speed):\n",
    "        self.vehicle_name = name_of_vehicle\n",
    "        self.max_speed = max_speed\n",
    "        self.avg_speed = avg_speed\n",
    "    "
   ]
  },
  {
   "cell_type": "code",
   "execution_count": null,
   "id": "316f99b0-a808-41af-b499-559b7105313e",
   "metadata": {},
   "outputs": [],
   "source": [
    "new_vehicle = vehicle('Car',230,100)"
   ]
  },
  {
   "cell_type": "code",
   "execution_count": 30,
   "id": "441d4f00-84cb-49e2-8e8b-068d4c370cee",
   "metadata": {},
   "outputs": [
    {
     "data": {
      "text/plain": [
       "'Car'"
      ]
     },
     "execution_count": 30,
     "metadata": {},
     "output_type": "execute_result"
    }
   ],
   "source": [
    "new_vehicle.vehicle_name"
   ]
  },
  {
   "cell_type": "markdown",
   "id": "1db7b738-78b3-463f-b5d2-e85d41e10d46",
   "metadata": {},
   "source": [
    "### Q2. Create a child class car from the vehicle class created in Que 1, which will inherit the vehicle class. Create a method named seating_capacity which takes capacity as an argument and returns the name of the vehicle and its seating capacity."
   ]
  },
  {
   "cell_type": "code",
   "execution_count": 47,
   "id": "0fd6eda4-3f4a-400c-8542-6f8cd177cb1e",
   "metadata": {},
   "outputs": [],
   "source": [
    "class car(vehicle):\n",
    "    def __init__(self,vehicle_name):\n",
    "        vehicle.__init__(self,vehicle_name,230,100)\n",
    "    def seating_capacity(self,capacity):\n",
    "        return self.vehicle_name, capacity\n"
   ]
  },
  {
   "cell_type": "code",
   "execution_count": 48,
   "id": "4b770947-f23f-41ae-99a5-8ae4501da9ea",
   "metadata": {},
   "outputs": [
    {
     "data": {
      "text/plain": [
       "('Toyota', 4)"
      ]
     },
     "execution_count": 48,
     "metadata": {},
     "output_type": "execute_result"
    }
   ],
   "source": [
    "car1 = car('Toyota')\n",
    "car1.seating_capacity(4)"
   ]
  },
  {
   "cell_type": "markdown",
   "id": "afae1957-1dc9-4071-8421-929a62277edb",
   "metadata": {},
   "source": [
    "### Q3. What is multiple inheritance? Write a python code to demonstrate multiple inheritance."
   ]
  },
  {
   "cell_type": "markdown",
   "id": "e17042ce-87bf-4c5e-a892-320512fb8b0d",
   "metadata": {},
   "source": [
    "#### Getting inherited from multple classes to get access property and functionality of those class"
   ]
  },
  {
   "cell_type": "code",
   "execution_count": 49,
   "id": "862559d5-b15b-4071-8512-18f8d97d5b4a",
   "metadata": {},
   "outputs": [],
   "source": [
    "class Father:\n",
    "    def doing_job(self):\n",
    "        print(\"Doing job for bread and butter\")"
   ]
  },
  {
   "cell_type": "code",
   "execution_count": 50,
   "id": "4304db10-fd12-4af1-ae83-4d9499593fb1",
   "metadata": {},
   "outputs": [],
   "source": [
    "class Mother:\n",
    "    def doing_family_care(self):\n",
    "        print(\"Caring family\")"
   ]
  },
  {
   "cell_type": "code",
   "execution_count": 51,
   "id": "11da65fb-0b6d-4be8-bb79-a90298456eb2",
   "metadata": {},
   "outputs": [],
   "source": [
    "class Kids(Father,Mother):\n",
    "    pass"
   ]
  },
  {
   "cell_type": "code",
   "execution_count": 52,
   "id": "72265db3-4774-45ae-9d4f-cdd8fd644e88",
   "metadata": {},
   "outputs": [],
   "source": [
    "kids1 = Kids()"
   ]
  },
  {
   "cell_type": "code",
   "execution_count": 53,
   "id": "b9a7bf8e-62ad-47b2-bf40-284e26d0d30e",
   "metadata": {},
   "outputs": [
    {
     "name": "stdout",
     "output_type": "stream",
     "text": [
      "Doing job for bread and butter\n",
      "Caring family\n"
     ]
    }
   ],
   "source": [
    "kids1.doing_job()\n",
    "kids1.doing_family_care()"
   ]
  },
  {
   "cell_type": "markdown",
   "id": "74909ffc-f2e9-43b7-8c3b-ad4b687ca29b",
   "metadata": {},
   "source": [
    "### Q4. What are getter and setter in python? Create a class and create a getter and a setter method in this class."
   ]
  },
  {
   "cell_type": "code",
   "execution_count": 28,
   "id": "b574ae37-ddcb-495b-b5cd-c0071a114135",
   "metadata": {},
   "outputs": [],
   "source": [
    "import random\n",
    "class Bank:\n",
    "    def __init__(self,amount):\n",
    "        self.__account_number = random.randint(1000000,9999999)\n",
    "        self.__balance = amount\n",
    "    def get_account_number(self):\n",
    "        return self.__account_number\n",
    "    '''Getter and Setter'''\n",
    "    def get_balance(self,account_number):\n",
    "        return self.__balance if self.__account_number == account_number else 'No such account found'\n",
    "    def set_balance(self,amount):\n",
    "        self.__balance = self.__balance+amount if (amount > 0 and (type(amount) in [int,float])) else self.__balance"
   ]
  },
  {
   "cell_type": "code",
   "execution_count": 21,
   "id": "6439113e-a6a4-4eeb-bd3e-010f4f6ede61",
   "metadata": {},
   "outputs": [],
   "source": [
    "acc1 = Bank(10000)"
   ]
  },
  {
   "cell_type": "code",
   "execution_count": 22,
   "id": "b8752ba2-4f26-4a65-a78f-cfaabd6d7bd3",
   "metadata": {},
   "outputs": [
    {
     "data": {
      "text/plain": [
       "7095764"
      ]
     },
     "execution_count": 22,
     "metadata": {},
     "output_type": "execute_result"
    }
   ],
   "source": [
    "acc1.get_account_number()"
   ]
  },
  {
   "cell_type": "code",
   "execution_count": 23,
   "id": "30931f3f-6722-40de-9f4f-30e35ac46ffd",
   "metadata": {},
   "outputs": [
    {
     "data": {
      "text/plain": [
       "10000"
      ]
     },
     "execution_count": 23,
     "metadata": {},
     "output_type": "execute_result"
    }
   ],
   "source": [
    "acc1.get_balance(7095764)"
   ]
  },
  {
   "cell_type": "code",
   "execution_count": 24,
   "id": "6ab640d9-a648-41e2-9261-b6bca4935749",
   "metadata": {},
   "outputs": [],
   "source": [
    "acc1.set_balance(5000)"
   ]
  },
  {
   "cell_type": "code",
   "execution_count": 25,
   "id": "4118e1bf-6c01-4b22-82e3-31a48167ca41",
   "metadata": {},
   "outputs": [
    {
     "data": {
      "text/plain": [
       "15000"
      ]
     },
     "execution_count": 25,
     "metadata": {},
     "output_type": "execute_result"
    }
   ],
   "source": [
    "acc1.get_balance(7095764)"
   ]
  },
  {
   "cell_type": "code",
   "execution_count": 29,
   "id": "895208ee-6311-4b8e-87e6-46587e8db428",
   "metadata": {},
   "outputs": [],
   "source": [
    "acc1.set_balance(-5000)"
   ]
  },
  {
   "cell_type": "code",
   "execution_count": 30,
   "id": "d94da5b5-6698-4976-ad4c-059ca4d0ebd6",
   "metadata": {},
   "outputs": [
    {
     "data": {
      "text/plain": [
       "60000"
      ]
     },
     "execution_count": 30,
     "metadata": {},
     "output_type": "execute_result"
    }
   ],
   "source": [
    "acc1.get_balance(7095764)"
   ]
  },
  {
   "cell_type": "markdown",
   "id": "50fc0c16-8f46-4510-a3e3-82e2a76778a1",
   "metadata": {},
   "source": [
    "### Q5.What is method overriding in python? Write a python code to demonstrate method overriding."
   ]
  },
  {
   "cell_type": "code",
   "execution_count": 31,
   "id": "31d4fc82-73c5-4409-9311-2a3362dfc674",
   "metadata": {},
   "outputs": [],
   "source": [
    "class Parent:\n",
    "    def m1(self):\n",
    "        print(\"calss Parent method m1()\")"
   ]
  },
  {
   "cell_type": "code",
   "execution_count": 32,
   "id": "9d0e5fcf-5df7-485e-8583-a40036205ce8",
   "metadata": {},
   "outputs": [],
   "source": [
    "class Child(Parent):\n",
    "    def m1(self):\n",
    "        print(\"Class Child method m1()\")"
   ]
  },
  {
   "cell_type": "code",
   "execution_count": 33,
   "id": "a71b4600-10c6-4dc6-8f45-a6065c164064",
   "metadata": {},
   "outputs": [
    {
     "name": "stdout",
     "output_type": "stream",
     "text": [
      "Class Child method m1()\n"
     ]
    }
   ],
   "source": [
    "obj1 = Child()\n",
    "obj1.m1()"
   ]
  },
  {
   "cell_type": "code",
   "execution_count": null,
   "id": "c473169e-493d-4d32-818b-70caa3e81db5",
   "metadata": {},
   "outputs": [],
   "source": []
  }
 ],
 "metadata": {
  "kernelspec": {
   "display_name": "Python 3 (ipykernel)",
   "language": "python",
   "name": "python3"
  },
  "language_info": {
   "codemirror_mode": {
    "name": "ipython",
    "version": 3
   },
   "file_extension": ".py",
   "mimetype": "text/x-python",
   "name": "python",
   "nbconvert_exporter": "python",
   "pygments_lexer": "ipython3",
   "version": "3.10.8"
  }
 },
 "nbformat": 4,
 "nbformat_minor": 5
}
