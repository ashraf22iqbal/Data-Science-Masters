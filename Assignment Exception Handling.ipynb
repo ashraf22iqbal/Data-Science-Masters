{
 "cells": [
  {
   "cell_type": "markdown",
   "id": "dcf54ff3-f29f-4604-a8d0-7a1acba515b0",
   "metadata": {},
   "source": [
    "### Q1. What is an exception in Python? Write different between Exception and Sysntax Errors."
   ]
  },
  {
   "cell_type": "markdown",
   "id": "08b17dcb-1d46-49da-8fa9-f823115f6c7f",
   "metadata": {},
   "source": [
    "#### Exception is a runtime Error that occurse due to our code logic .\n",
    "#### Exception occurse at runtime and its terminate the hole logic written at below of exception statement but Syntax error will come while compiling or interprating."
   ]
  },
  {
   "cell_type": "markdown",
   "id": "314decd2-2d60-456e-96af-dbbc46edb4ee",
   "metadata": {},
   "source": [
    "### Q2. What happens when exception not handled ? Explain with example.."
   ]
  },
  {
   "cell_type": "markdown",
   "id": "e89d0e79-6360-474f-9997-554b5599cf54",
   "metadata": {},
   "source": [
    "#### Once exception rised then our program will terminate abonormally."
   ]
  },
  {
   "cell_type": "code",
   "execution_count": 5,
   "id": "4071fa6c-072c-43d8-bcf1-98da9cf19114",
   "metadata": {},
   "outputs": [
    {
     "ename": "FileNotFoundError",
     "evalue": "[Errno 2] No such file or directory: 'mytext.txt'",
     "output_type": "error",
     "traceback": [
      "\u001b[0;31m---------------------------------------------------------------------------\u001b[0m",
      "\u001b[0;31mFileNotFoundError\u001b[0m                         Traceback (most recent call last)",
      "Cell \u001b[0;32mIn[5], line 1\u001b[0m\n\u001b[0;32m----> 1\u001b[0m myF \u001b[38;5;241m=\u001b[39m \u001b[38;5;28;43mopen\u001b[39;49m\u001b[43m(\u001b[49m\u001b[38;5;124;43m\"\u001b[39;49m\u001b[38;5;124;43mmytext.txt\u001b[39;49m\u001b[38;5;124;43m\"\u001b[39;49m\u001b[43m \u001b[49m\u001b[43m,\u001b[49m\u001b[43m \u001b[49m\u001b[38;5;124;43m\"\u001b[39;49m\u001b[38;5;124;43mr\u001b[39;49m\u001b[38;5;124;43m\"\u001b[39;49m\u001b[43m)\u001b[49m\n\u001b[1;32m      2\u001b[0m doc_name \u001b[38;5;241m=\u001b[39m \u001b[38;5;124m\"\u001b[39m\u001b[38;5;124mMy First Doc \u001b[39m\u001b[38;5;124m\"\u001b[39m \u001b[38;5;66;03m# This line will not execute because of exception on above line \u001b[39;00m\n",
      "File \u001b[0;32m/opt/conda/lib/python3.10/site-packages/IPython/core/interactiveshell.py:282\u001b[0m, in \u001b[0;36m_modified_open\u001b[0;34m(file, *args, **kwargs)\u001b[0m\n\u001b[1;32m    275\u001b[0m \u001b[38;5;28;01mif\u001b[39;00m file \u001b[38;5;129;01min\u001b[39;00m {\u001b[38;5;241m0\u001b[39m, \u001b[38;5;241m1\u001b[39m, \u001b[38;5;241m2\u001b[39m}:\n\u001b[1;32m    276\u001b[0m     \u001b[38;5;28;01mraise\u001b[39;00m \u001b[38;5;167;01mValueError\u001b[39;00m(\n\u001b[1;32m    277\u001b[0m         \u001b[38;5;124mf\u001b[39m\u001b[38;5;124m\"\u001b[39m\u001b[38;5;124mIPython won\u001b[39m\u001b[38;5;124m'\u001b[39m\u001b[38;5;124mt let you open fd=\u001b[39m\u001b[38;5;132;01m{\u001b[39;00mfile\u001b[38;5;132;01m}\u001b[39;00m\u001b[38;5;124m by default \u001b[39m\u001b[38;5;124m\"\u001b[39m\n\u001b[1;32m    278\u001b[0m         \u001b[38;5;124m\"\u001b[39m\u001b[38;5;124mas it is likely to crash IPython. If you know what you are doing, \u001b[39m\u001b[38;5;124m\"\u001b[39m\n\u001b[1;32m    279\u001b[0m         \u001b[38;5;124m\"\u001b[39m\u001b[38;5;124myou can use builtins\u001b[39m\u001b[38;5;124m'\u001b[39m\u001b[38;5;124m open.\u001b[39m\u001b[38;5;124m\"\u001b[39m\n\u001b[1;32m    280\u001b[0m     )\n\u001b[0;32m--> 282\u001b[0m \u001b[38;5;28;01mreturn\u001b[39;00m \u001b[43mio_open\u001b[49m\u001b[43m(\u001b[49m\u001b[43mfile\u001b[49m\u001b[43m,\u001b[49m\u001b[43m \u001b[49m\u001b[38;5;241;43m*\u001b[39;49m\u001b[43margs\u001b[49m\u001b[43m,\u001b[49m\u001b[43m \u001b[49m\u001b[38;5;241;43m*\u001b[39;49m\u001b[38;5;241;43m*\u001b[39;49m\u001b[43mkwargs\u001b[49m\u001b[43m)\u001b[49m\n",
      "\u001b[0;31mFileNotFoundError\u001b[0m: [Errno 2] No such file or directory: 'mytext.txt'"
     ]
    }
   ],
   "source": [
    "myF = open(\"mytext.txt\" , \"r\")\n",
    "doc_name = \"My First Doc \" # This line will not execute because of exception on above line "
   ]
  },
  {
   "cell_type": "markdown",
   "id": "89cc7dbb-9115-4bd7-84e6-b1f256028564",
   "metadata": {},
   "source": [
    "## Q3. Which python statements are used to catch and handle exception ? explain with example."
   ]
  },
  {
   "cell_type": "markdown",
   "id": "38ee61cf-cef9-4a8d-b7aa-a9d8cb635a67",
   "metadata": {},
   "source": [
    "#### try and except"
   ]
  },
  {
   "cell_type": "code",
   "execution_count": 13,
   "id": "4e327cb9-a560-4008-a282-893e233dc2ef",
   "metadata": {},
   "outputs": [],
   "source": [
    "def performDevision(a,b):\n",
    "    try:\n",
    "        return a/b\n",
    "    except Exception as ex:\n",
    "        return \"Exception has been occured due to :: \",ex\n",
    "    "
   ]
  },
  {
   "cell_type": "code",
   "execution_count": 7,
   "id": "f8382b68-7d6f-456d-803a-29e9fd3a4306",
   "metadata": {},
   "outputs": [
    {
     "data": {
      "text/plain": [
       "5.0"
      ]
     },
     "execution_count": 7,
     "metadata": {},
     "output_type": "execute_result"
    }
   ],
   "source": [
    "performDevision(10,2)"
   ]
  },
  {
   "cell_type": "code",
   "execution_count": 14,
   "id": "b7f5c3ec-ce0b-4c0e-90a9-2c6b9dac88de",
   "metadata": {},
   "outputs": [
    {
     "data": {
      "text/plain": [
       "('Exception has been occured due to :: ',\n",
       " ZeroDivisionError('division by zero'))"
      ]
     },
     "execution_count": 14,
     "metadata": {},
     "output_type": "execute_result"
    }
   ],
   "source": [
    "performDevision(5,0)"
   ]
  },
  {
   "cell_type": "markdown",
   "id": "a87b3d06-3dd5-42f9-b947-041c61b63e60",
   "metadata": {},
   "source": [
    "### Q4. Explain\n",
    "    true and else\n",
    "    finally\n",
    "    raise"
   ]
  },
  {
   "cell_type": "code",
   "execution_count": 3,
   "id": "cbaca695-3ed6-4ba9-94bb-46d058754b5d",
   "metadata": {},
   "outputs": [],
   "source": [
    "def divide_operation(a,b):\n",
    "    try:\n",
    "        result = a/b\n",
    "    except Exception as ex:\n",
    "        return 'Exception occured in the code ::',ex\n",
    "    else:\n",
    "        return result"
   ]
  },
  {
   "cell_type": "code",
   "execution_count": 4,
   "id": "171dba8f-c7c2-47ff-b8d7-130165d9d38c",
   "metadata": {},
   "outputs": [
    {
     "data": {
      "text/plain": [
       "0.2857142857142857"
      ]
     },
     "execution_count": 4,
     "metadata": {},
     "output_type": "execute_result"
    }
   ],
   "source": [
    "divide_operation(2,7)"
   ]
  },
  {
   "cell_type": "code",
   "execution_count": 5,
   "id": "81c130c5-da05-440e-87b8-b1ec50b496f9",
   "metadata": {},
   "outputs": [
    {
     "data": {
      "text/plain": [
       "('Exception occured in the code ::', ZeroDivisionError('division by zero'))"
      ]
     },
     "execution_count": 5,
     "metadata": {},
     "output_type": "execute_result"
    }
   ],
   "source": [
    "divide_operation(2,0)"
   ]
  },
  {
   "cell_type": "code",
   "execution_count": 7,
   "id": "0d9d938b-5e2b-4872-97ec-a5315ea6b388",
   "metadata": {},
   "outputs": [],
   "source": [
    "class InsufficientBalanceException(Exception):\n",
    "    def __init__(self,msg):\n",
    "        self.msg = msg\n",
    "        "
   ]
  },
  {
   "cell_type": "code",
   "execution_count": 4,
   "id": "d68a8b3e-6e21-4bf4-a19f-5a9d9cdf60ce",
   "metadata": {},
   "outputs": [],
   "source": [
    "class Bank:\n",
    "    def __init__(self,account_num,balance):\n",
    "        self.account_num = account_num\n",
    "        self.balance = balance\n",
    "    def withdraw(self,amount):\n",
    "        try:\n",
    "            if amount > self.balance:\n",
    "                raise InsufficientBalanceException(\"Does'nt have sufficient balance\")\n",
    "            else :\n",
    "                self.balance -= amount\n",
    "        finally:\n",
    "           print(\"Txn completed\")"
   ]
  },
  {
   "cell_type": "code",
   "execution_count": 5,
   "id": "7cab7f69-64b9-404b-b45f-07ab772a1d10",
   "metadata": {},
   "outputs": [],
   "source": [
    "acc1 = Bank(1111,5000)"
   ]
  },
  {
   "cell_type": "code",
   "execution_count": 6,
   "id": "cfb1266d-ebb8-451d-b99e-901f0d8a1806",
   "metadata": {},
   "outputs": [
    {
     "name": "stdout",
     "output_type": "stream",
     "text": [
      "Txn completed\n"
     ]
    },
    {
     "ename": "NameError",
     "evalue": "name 'InsufficientBalanceException' is not defined",
     "output_type": "error",
     "traceback": [
      "\u001b[0;31m---------------------------------------------------------------------------\u001b[0m",
      "\u001b[0;31mNameError\u001b[0m                                 Traceback (most recent call last)",
      "Cell \u001b[0;32mIn[6], line 1\u001b[0m\n\u001b[0;32m----> 1\u001b[0m \u001b[43macc1\u001b[49m\u001b[38;5;241;43m.\u001b[39;49m\u001b[43mwithdraw\u001b[49m\u001b[43m(\u001b[49m\u001b[38;5;241;43m6000\u001b[39;49m\u001b[43m)\u001b[49m\n",
      "Cell \u001b[0;32mIn[4], line 8\u001b[0m, in \u001b[0;36mBank.withdraw\u001b[0;34m(self, amount)\u001b[0m\n\u001b[1;32m      6\u001b[0m \u001b[38;5;28;01mtry\u001b[39;00m:\n\u001b[1;32m      7\u001b[0m     \u001b[38;5;28;01mif\u001b[39;00m amount \u001b[38;5;241m>\u001b[39m \u001b[38;5;28mself\u001b[39m\u001b[38;5;241m.\u001b[39mbalance:\n\u001b[0;32m----> 8\u001b[0m         \u001b[38;5;28;01mraise\u001b[39;00m \u001b[43mInsufficientBalanceException\u001b[49m(\u001b[38;5;124m\"\u001b[39m\u001b[38;5;124mDoes\u001b[39m\u001b[38;5;124m'\u001b[39m\u001b[38;5;124mnt have sufficient balance\u001b[39m\u001b[38;5;124m\"\u001b[39m)\n\u001b[1;32m      9\u001b[0m     \u001b[38;5;28;01melse\u001b[39;00m :\n\u001b[1;32m     10\u001b[0m         \u001b[38;5;28mself\u001b[39m\u001b[38;5;241m.\u001b[39mbalance \u001b[38;5;241m-\u001b[39m\u001b[38;5;241m=\u001b[39m amount\n",
      "\u001b[0;31mNameError\u001b[0m: name 'InsufficientBalanceException' is not defined"
     ]
    }
   ],
   "source": [
    "acc1.withdraw(6000)"
   ]
  },
  {
   "cell_type": "markdown",
   "id": "e2b9c213-1575-404e-8a3a-f757c10dc203",
   "metadata": {},
   "source": [
    "## Q5. What is Custom Exeptions in pthon? Whdo we need Custom Ex,eptions? Explin withn exmple.."
   ]
  },
  {
   "cell_type": "code",
   "execution_count": 7,
   "id": "e1d3fca7-fb9a-484a-8878-7954ad0e5abb",
   "metadata": {},
   "outputs": [],
   "source": [
    "class InsufficientBalanceException(Exception):\n",
    "    def __init__(self,msg):\n",
    "        self.msg = msg\n",
    "        "
   ]
  },
  {
   "cell_type": "code",
   "execution_count": 8,
   "id": "e4ba73a6-ad00-4715-ab9d-bb64dd7b5ab1",
   "metadata": {},
   "outputs": [],
   "source": [
    "class Bank:\n",
    "    def __init__(self,account_num,balance):\n",
    "        self.account_num = account_num\n",
    "        self.balance = balance\n",
    "    def withdraw(self,amount):\n",
    "        try:\n",
    "            if amount > self.balance:\n",
    "                raise InsufficientBalanceException(\"Does'nt have sufficient balance\")\n",
    "            else :\n",
    "                self.balance -= amount\n",
    "        finally:\n",
    "           print(\"Txn completed\")"
   ]
  },
  {
   "cell_type": "markdown",
   "id": "bee2289c-2a9a-48aa-b298-30536196a5f1",
   "metadata": {},
   "source": [
    "## Q6. Crete,Custom exeption ,lss. Use this ,lss to hndlen ex,eption."
   ]
  },
  {
   "cell_type": "code",
   "execution_count": 10,
   "id": "5bb73abb-ec45-4d71-8e99-58d81d5e17c6",
   "metadata": {},
   "outputs": [],
   "source": [
    "class InsufficientBalanceException(Exception):\n",
    "    def __init__(self,msg):\n",
    "        self.msg = msg\n",
    "        "
   ]
  },
  {
   "cell_type": "code",
   "execution_count": 11,
   "id": "01c2e641-18ef-4cc7-9dfc-d57bcbd22198",
   "metadata": {},
   "outputs": [],
   "source": [
    "class Bank:\n",
    "    def __init__(self,account_num,balance):\n",
    "        self.account_num = account_num\n",
    "        self.balance = balance\n",
    "    def withdraw(self,amount):\n",
    "        try:\n",
    "            if amount > self.balance:\n",
    "                raise InsufficientBalanceException(\"Does'nt have sufficient balance\")\n",
    "            else :\n",
    "                self.balance -= amount\n",
    "        finally:\n",
    "           print(\"Txn completed\")"
   ]
  },
  {
   "cell_type": "code",
   "execution_count": null,
   "id": "363621a4-7a37-4fed-8c50-0d58830646be",
   "metadata": {},
   "outputs": [],
   "source": [
    "account = Bank(22222,10000)\n",
    "try:\n",
    "    ac"
   ]
  }
 ],
 "metadata": {
  "kernelspec": {
   "display_name": "Python 3 (ipykernel)",
   "language": "python",
   "name": "python3"
  },
  "language_info": {
   "codemirror_mode": {
    "name": "ipython",
    "version": 3
   },
   "file_extension": ".py",
   "mimetype": "text/x-python",
   "name": "python",
   "nbconvert_exporter": "python",
   "pygments_lexer": "ipython3",
   "version": "3.10.8"
  }
 },
 "nbformat": 4,
 "nbformat_minor": 5
}
