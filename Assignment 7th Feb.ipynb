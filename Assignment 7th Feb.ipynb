{
 "cells": [
  {
   "cell_type": "markdown",
   "id": "915de469-bcec-4e60-9a9b-b0aee53c3d99",
   "metadata": {},
   "source": [
    "### Q1. You are writing code for a company. The requirement of the company is that you create a python function that will check whether the password entered by the user is correct or not. The function should take the password as input and return the string “Valid Password” if the entered password follows the below-given password guidelines else it should return “Invalid Password”\n",
    "\n",
    "#### Note: 1. The Password should contain at least two uppercase letters and at least two lowercase letters.\n",
    "2. The Password should contain at least a number and three special characters.\n",
    "3. The length of the password should be 10 characters long."
   ]
  },
  {
   "cell_type": "code",
   "execution_count": 43,
   "id": "83ebb383-0e68-4ef0-ab86-bddcb7503ee1",
   "metadata": {},
   "outputs": [],
   "source": [
    "import re\n",
    "def password_validator(password):\n",
    "    if  type(password) == str and len(password) >= 10 :\n",
    "        regex = re.compile('[@_!#$%^&*()<>?/\\|}{~:]')\n",
    "        upper_count =0\n",
    "        lower_count =0\n",
    "        number_count =0\n",
    "        special_cahr_count =0\n",
    "        for ch in password:\n",
    "            if ch.isalpha() :\n",
    "                if ch.isupper():\n",
    "                    upper_count = upper_count +1\n",
    "                if ch.islower():\n",
    "                    lower_count = lower_count+ 1\n",
    "            elif ch.isdigit():\n",
    "                number_count = number_count + 1\n",
    "            elif regex.search(ch) != None:\n",
    "                special_cahr_count = special_cahr_count + 1\n",
    "        if upper_count>= 2 and lower_count >= 2 and number_count >=1 and special_cahr_count >= 3:\n",
    "            return \"Valid Password\"\n",
    "        else:\n",
    "            return \"Invalid Password\"\n",
    "    else:\n",
    "        return \"Invalid Password\""
   ]
  },
  {
   "cell_type": "code",
   "execution_count": 50,
   "id": "88a90d87-bebd-481b-88cd-b271222e2915",
   "metadata": {},
   "outputs": [
    {
     "data": {
      "text/plain": [
       "'Valid Password'"
      ]
     },
     "execution_count": 50,
     "metadata": {},
     "output_type": "execute_result"
    }
   ],
   "source": [
    "st = 'sKw#Vsdd@eDF323$'\n",
    "password_validator(st)"
   ]
  },
  {
   "cell_type": "markdown",
   "id": "a8fecb73-6dc8-481c-a668-f9bf692227f2",
   "metadata": {},
   "source": [
    "### Check if the string starts with a particular letter lambda"
   ]
  },
  {
   "cell_type": "code",
   "execution_count": 53,
   "id": "00946b7e-a0df-40f7-bab4-3b8214c5cf9e",
   "metadata": {},
   "outputs": [],
   "source": [
    "def starting_letter_check(data):\n",
    "    return True if (data != None and type(data) == str and data[0].upper() == 'A') else False"
   ]
  },
  {
   "cell_type": "code",
   "execution_count": 54,
   "id": "71b72b0f-9271-4a61-a530-e8750f1b7deb",
   "metadata": {},
   "outputs": [
    {
     "data": {
      "text/plain": [
       "False"
      ]
     },
     "execution_count": 54,
     "metadata": {},
     "output_type": "execute_result"
    }
   ],
   "source": [
    "starting_letter_check('Test')"
   ]
  },
  {
   "cell_type": "code",
   "execution_count": 55,
   "id": "ec20987d-50c1-41bb-9ad1-fadcd96983d8",
   "metadata": {},
   "outputs": [
    {
     "data": {
      "text/plain": [
       "True"
      ]
     },
     "execution_count": 55,
     "metadata": {},
     "output_type": "execute_result"
    }
   ],
   "source": [
    "starting_letter_check('aTest')"
   ]
  },
  {
   "cell_type": "code",
   "execution_count": 56,
   "id": "5d543da9-7671-4e2b-8415-50a32548eb6d",
   "metadata": {},
   "outputs": [
    {
     "name": "stdout",
     "output_type": "stream",
     "text": [
      "<function <lambda> at 0x7f0114e02e60>\n"
     ]
    }
   ],
   "source": [
    "print(lambda data : True if (data != None and type(data) == str and data[0].upper() == 'A') else False)"
   ]
  },
  {
   "cell_type": "code",
   "execution_count": 62,
   "id": "eb870133-c12d-4e18-9bcc-71763918cec2",
   "metadata": {},
   "outputs": [],
   "source": [
    "check = lambda data : True if (data != None and type(data) == str and data[0].upper() == 'A') else False"
   ]
  },
  {
   "cell_type": "code",
   "execution_count": 63,
   "id": "0c9baebd-4440-4ef9-ac09-a077560d691e",
   "metadata": {},
   "outputs": [
    {
     "data": {
      "text/plain": [
       "False"
      ]
     },
     "execution_count": 63,
     "metadata": {},
     "output_type": "execute_result"
    }
   ],
   "source": [
    "check(\"Test\")"
   ]
  },
  {
   "cell_type": "code",
   "execution_count": 64,
   "id": "5ed2d7c0-abcf-45a7-a859-61cfd40251c1",
   "metadata": {},
   "outputs": [
    {
     "data": {
      "text/plain": [
       "True"
      ]
     },
     "execution_count": 64,
     "metadata": {},
     "output_type": "execute_result"
    }
   ],
   "source": [
    "check(\"aTest\")"
   ]
  },
  {
   "cell_type": "markdown",
   "id": "cfce6b39-2be4-476f-9cd8-17c768f42acd",
   "metadata": {},
   "source": [
    "### Check if the string is numeric"
   ]
  },
  {
   "cell_type": "code",
   "execution_count": 66,
   "id": "16568ff3-9975-403b-b490-7fef82d83bc2",
   "metadata": {},
   "outputs": [],
   "source": [
    "check2 = lambda data : True if (data != None and type(data) == str and data.isdigit()) else False"
   ]
  },
  {
   "cell_type": "code",
   "execution_count": 67,
   "id": "c7bfc284-e850-451a-b2a6-89f884b79c72",
   "metadata": {},
   "outputs": [
    {
     "data": {
      "text/plain": [
       "True"
      ]
     },
     "execution_count": 67,
     "metadata": {},
     "output_type": "execute_result"
    }
   ],
   "source": [
    "check2('32323')"
   ]
  },
  {
   "cell_type": "code",
   "execution_count": 68,
   "id": "f8df62d8-aab9-4e39-b2e7-edb0da6840b3",
   "metadata": {},
   "outputs": [
    {
     "data": {
      "text/plain": [
       "False"
      ]
     },
     "execution_count": 68,
     "metadata": {},
     "output_type": "execute_result"
    }
   ],
   "source": [
    "check2('323T23')"
   ]
  },
  {
   "cell_type": "markdown",
   "id": "b7a44297-842f-4fa1-a0f6-5f38a6936915",
   "metadata": {},
   "source": [
    "### Sort a list of tuples having fruit names and their quantity. [(\"mango\",99),(\"orange\",80), (\"grapes\", 1000)"
   ]
  },
  {
   "cell_type": "code",
   "execution_count": 20,
   "id": "3fa3c163-5aaa-4d5e-af6d-f211f6d22d01",
   "metadata": {},
   "outputs": [
    {
     "data": {
      "text/plain": [
       "[('orange', 80), ('mango', 99), ('grapes', 1000)]"
      ]
     },
     "execution_count": 20,
     "metadata": {},
     "output_type": "execute_result"
    }
   ],
   "source": [
    "tupl_list = [(\"mango\",99),(\"orange\",80), (\"grapes\", 1000)]\n",
    "sorted(tupl_list,key=lambda x:x[1])"
   ]
  },
  {
   "cell_type": "code",
   "execution_count": 21,
   "id": "d88d2ca4-65e2-4fb3-a667-694efd6e5007",
   "metadata": {},
   "outputs": [
    {
     "data": {
      "text/plain": [
       "[('grapes', 1000), ('mango', 99), ('orange', 80)]"
      ]
     },
     "execution_count": 21,
     "metadata": {},
     "output_type": "execute_result"
    }
   ],
   "source": [
    "tupl_list = [(\"mango\",99),(\"orange\",80), (\"grapes\", 1000)]\n",
    "sorted(tupl_list,key=lambda x:x[0])"
   ]
  },
  {
   "cell_type": "markdown",
   "id": "be9e47bd-1b93-4913-83f2-ecd94ef112a3",
   "metadata": {},
   "source": [
    "### Find the squares of numbers from 1 to 10"
   ]
  },
  {
   "cell_type": "code",
   "execution_count": 2,
   "id": "5aeaabf5-41ea-454d-aca1-ffec608958e5",
   "metadata": {},
   "outputs": [
    {
     "data": {
      "text/plain": [
       "[1, 4, 9, 16, 25, 36, 49, 64, 81, 100]"
      ]
     },
     "execution_count": 2,
     "metadata": {},
     "output_type": "execute_result"
    }
   ],
   "source": [
    "list(map(lambda x : x**2,range(1,11)))"
   ]
  },
  {
   "cell_type": "markdown",
   "id": "c1344d53-cc29-45a1-9ed1-54a7aab9f4b9",
   "metadata": {},
   "source": [
    "### Find the cube root of numbers from 1 to 10"
   ]
  },
  {
   "cell_type": "code",
   "execution_count": 3,
   "id": "9c27b033-1139-4c83-b4d1-1e65dad6869f",
   "metadata": {},
   "outputs": [
    {
     "data": {
      "text/plain": [
       "[1, 8, 27, 64, 125, 216, 343, 512, 729, 1000]"
      ]
     },
     "execution_count": 3,
     "metadata": {},
     "output_type": "execute_result"
    }
   ],
   "source": [
    "list(map(lambda x : x**3,range(1,11)))"
   ]
  },
  {
   "cell_type": "markdown",
   "id": "a0b8e57d-d540-499e-b289-d2a569a507a0",
   "metadata": {},
   "source": [
    "### Check if a given number is even"
   ]
  },
  {
   "cell_type": "code",
   "execution_count": 5,
   "id": "41251ccb-68e6-47b3-87e7-708e4828033e",
   "metadata": {},
   "outputs": [],
   "source": [
    "num = lambda x: x%2 ==0"
   ]
  },
  {
   "cell_type": "code",
   "execution_count": 6,
   "id": "2a47c327-d478-493a-a00c-ed998489de78",
   "metadata": {},
   "outputs": [
    {
     "data": {
      "text/plain": [
       "False"
      ]
     },
     "execution_count": 6,
     "metadata": {},
     "output_type": "execute_result"
    }
   ],
   "source": [
    "num(5)"
   ]
  },
  {
   "cell_type": "code",
   "execution_count": 7,
   "id": "2b26f191-7381-4375-848e-35df9f15cec9",
   "metadata": {},
   "outputs": [
    {
     "data": {
      "text/plain": [
       "True"
      ]
     },
     "execution_count": 7,
     "metadata": {},
     "output_type": "execute_result"
    }
   ],
   "source": [
    "num(8)"
   ]
  },
  {
   "cell_type": "markdown",
   "id": "a72a2bd6-f6e3-4f1c-a358-c9da8f1856fd",
   "metadata": {},
   "source": [
    "### Filter odd numbers from the given list.\n",
    "[1,2,3,4,5,6,7,8,9,10]"
   ]
  },
  {
   "cell_type": "code",
   "execution_count": 11,
   "id": "6ab282a9-7854-4691-8568-0fd33aa21aa4",
   "metadata": {},
   "outputs": [
    {
     "data": {
      "text/plain": [
       "[1, 3, 5, 7, 9]"
      ]
     },
     "execution_count": 11,
     "metadata": {},
     "output_type": "execute_result"
    }
   ],
   "source": [
    "lst = [1,2,3,4,5,6,7,8,9,10]\n",
    "list(filter( lambda x: x%2 != 0,lst))"
   ]
  },
  {
   "cell_type": "markdown",
   "id": "e6af7d33-5edb-4173-ae4f-c620eeb986c5",
   "metadata": {},
   "source": [
    "### Sort a list of integers into positive and negative integers lists.\n",
    "[1,2,3,4,5,6,-1,-2,-3,-4,-5,0]"
   ]
  },
  {
   "cell_type": "code",
   "execution_count": 18,
   "id": "a5e5504b-5e00-40d0-81e5-dbcdc7bdd94e",
   "metadata": {},
   "outputs": [
    {
     "data": {
      "text/plain": [
       "[-5, -4, -3, -2, -1, 0, 1, 2, 3, 4, 5, 6]"
      ]
     },
     "execution_count": 18,
     "metadata": {},
     "output_type": "execute_result"
    }
   ],
   "source": [
    "lst2 = [1,2,3,4,5,6,-1,-2,-3,-4,-5,0]\n",
    "sorted(lst2, key=lambda x: x,reverse=False)"
   ]
  },
  {
   "cell_type": "code",
   "execution_count": null,
   "id": "64114ebf-2bc2-47c4-97d4-3cad7cad867d",
   "metadata": {},
   "outputs": [],
   "source": []
  }
 ],
 "metadata": {
  "kernelspec": {
   "display_name": "Python 3 (ipykernel)",
   "language": "python",
   "name": "python3"
  },
  "language_info": {
   "codemirror_mode": {
    "name": "ipython",
    "version": 3
   },
   "file_extension": ".py",
   "mimetype": "text/x-python",
   "name": "python",
   "nbconvert_exporter": "python",
   "pygments_lexer": "ipython3",
   "version": "3.10.8"
  }
 },
 "nbformat": 4,
 "nbformat_minor": 5
}
