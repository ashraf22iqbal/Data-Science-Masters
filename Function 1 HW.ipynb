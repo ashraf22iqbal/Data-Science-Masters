{
 "cells": [
  {
   "cell_type": "code",
   "execution_count": 1,
   "id": "7c31a960-ebcd-4636-b5ab-bb0f11727373",
   "metadata": {},
   "outputs": [
    {
     "ename": "SyntaxError",
     "evalue": "incomplete input (133694391.py, line 1)",
     "output_type": "error",
     "traceback": [
      "\u001b[0;36m  Cell \u001b[0;32mIn[1], line 1\u001b[0;36m\u001b[0m\n\u001b[0;31m    def method1():\u001b[0m\n\u001b[0m                  ^\u001b[0m\n\u001b[0;31mSyntaxError\u001b[0m\u001b[0;31m:\u001b[0m incomplete input\n"
     ]
    }
   ],
   "source": [
    "def method1():"
   ]
  },
  {
   "cell_type": "code",
   "execution_count": 2,
   "id": "a6c32eaf-131e-4282-8b4f-02e794a82a97",
   "metadata": {},
   "outputs": [],
   "source": [
    "def method1():\n",
    "    pass"
   ]
  },
  {
   "cell_type": "code",
   "execution_count": 3,
   "id": "c030bfb1-2d80-416e-b94b-67b9998223ec",
   "metadata": {},
   "outputs": [],
   "source": [
    "def method2():\n",
    "    print(\"First method\")"
   ]
  },
  {
   "cell_type": "code",
   "execution_count": 4,
   "id": "f7596392-d6f9-4e1b-a53e-3b208689dbc7",
   "metadata": {},
   "outputs": [
    {
     "name": "stdout",
     "output_type": "stream",
     "text": [
      "First method\n"
     ]
    }
   ],
   "source": [
    "method2()"
   ]
  },
  {
   "cell_type": "code",
   "execution_count": 5,
   "id": "b8fa7363-b515-4db2-9751-f313fc52d8bc",
   "metadata": {},
   "outputs": [
    {
     "name": "stdout",
     "output_type": "stream",
     "text": [
      "First method\n"
     ]
    },
    {
     "ename": "TypeError",
     "evalue": "unsupported operand type(s) for +: 'NoneType' and 'str'",
     "output_type": "error",
     "traceback": [
      "\u001b[0;31m---------------------------------------------------------------------------\u001b[0m",
      "\u001b[0;31mTypeError\u001b[0m                                 Traceback (most recent call last)",
      "Cell \u001b[0;32mIn[5], line 1\u001b[0m\n\u001b[0;32m----> 1\u001b[0m \u001b[43mmethod2\u001b[49m\u001b[43m(\u001b[49m\u001b[43m)\u001b[49m\u001b[43m \u001b[49m\u001b[38;5;241;43m+\u001b[39;49m\u001b[43m \u001b[49m\u001b[38;5;124;43m'\u001b[39;49m\u001b[38;5;124;43mtes\u001b[39;49m\u001b[38;5;124;43m'\u001b[39;49m\n",
      "\u001b[0;31mTypeError\u001b[0m: unsupported operand type(s) for +: 'NoneType' and 'str'"
     ]
    }
   ],
   "source": [
    "method2() + 'tes'"
   ]
  },
  {
   "cell_type": "code",
   "execution_count": 6,
   "id": "9409b378-2a1f-40fa-882a-b1b540c3e350",
   "metadata": {},
   "outputs": [],
   "source": [
    "def m1():\n",
    "    return \"New Programing \""
   ]
  },
  {
   "cell_type": "code",
   "execution_count": 7,
   "id": "6f983e33-33d7-42f6-892c-a00c98447fd4",
   "metadata": {},
   "outputs": [
    {
     "data": {
      "text/plain": [
       "'New Programing Yes'"
      ]
     },
     "execution_count": 7,
     "metadata": {},
     "output_type": "execute_result"
    }
   ],
   "source": [
    "m1() + \"Yes\""
   ]
  },
  {
   "cell_type": "code",
   "execution_count": 8,
   "id": "2574dae9-355f-42fe-a92d-ebfae933699f",
   "metadata": {},
   "outputs": [],
   "source": [
    "def m2():\n",
    "    return 6,43,'dd',44.44,[2,3,4]"
   ]
  },
  {
   "cell_type": "code",
   "execution_count": 9,
   "id": "2db99e1c-8c87-4657-a602-011f31b9404a",
   "metadata": {},
   "outputs": [
    {
     "data": {
      "text/plain": [
       "(6, 43, 'dd', 44.44, [2, 3, 4])"
      ]
     },
     "execution_count": 9,
     "metadata": {},
     "output_type": "execute_result"
    }
   ],
   "source": [
    "m2()"
   ]
  },
  {
   "cell_type": "code",
   "execution_count": 10,
   "id": "3f46d1e0-a16a-4c94-a1e9-ed789d78fb0d",
   "metadata": {},
   "outputs": [
    {
     "data": {
      "text/plain": [
       "tuple"
      ]
     },
     "execution_count": 10,
     "metadata": {},
     "output_type": "execute_result"
    }
   ],
   "source": [
    "type(m2())"
   ]
  },
  {
   "cell_type": "code",
   "execution_count": 11,
   "id": "e275165b-2312-4a9c-89cd-5096dc00be53",
   "metadata": {},
   "outputs": [],
   "source": [
    "a1 = 2,3,'f'"
   ]
  },
  {
   "cell_type": "code",
   "execution_count": 12,
   "id": "b46fda77-56fa-4dbb-86ca-b5fec52dbe33",
   "metadata": {},
   "outputs": [
    {
     "data": {
      "text/plain": [
       "(2, 3, 'f')"
      ]
     },
     "execution_count": 12,
     "metadata": {},
     "output_type": "execute_result"
    }
   ],
   "source": [
    "a1"
   ]
  },
  {
   "cell_type": "code",
   "execution_count": 13,
   "id": "c32ae462-fda7-4a1d-9d9d-1f4e053e2b82",
   "metadata": {},
   "outputs": [
    {
     "data": {
      "text/plain": [
       "tuple"
      ]
     },
     "execution_count": 13,
     "metadata": {},
     "output_type": "execute_result"
    }
   ],
   "source": [
    "type(a1)"
   ]
  },
  {
   "cell_type": "code",
   "execution_count": 15,
   "id": "ec735afa-f613-45e6-83f9-f222b2cd6ab5",
   "metadata": {},
   "outputs": [],
   "source": [
    "a,b,c = True,2,'Yes'"
   ]
  },
  {
   "cell_type": "code",
   "execution_count": 16,
   "id": "361304cc-e4c0-4920-adbb-88e02c77537f",
   "metadata": {},
   "outputs": [
    {
     "data": {
      "text/plain": [
       "2"
      ]
     },
     "execution_count": 16,
     "metadata": {},
     "output_type": "execute_result"
    }
   ],
   "source": [
    "b"
   ]
  },
  {
   "cell_type": "code",
   "execution_count": 17,
   "id": "4d8a2b60-6436-43d5-82c0-344b65c43642",
   "metadata": {},
   "outputs": [
    {
     "data": {
      "text/plain": [
       "'Yes'"
      ]
     },
     "execution_count": 17,
     "metadata": {},
     "output_type": "execute_result"
    }
   ],
   "source": [
    "c"
   ]
  },
  {
   "cell_type": "code",
   "execution_count": 18,
   "id": "3ba3445f-7c3a-4c5c-ac44-f6a82186bdbe",
   "metadata": {},
   "outputs": [
    {
     "ename": "ValueError",
     "evalue": "not enough values to unpack (expected 3, got 2)",
     "output_type": "error",
     "traceback": [
      "\u001b[0;31m---------------------------------------------------------------------------\u001b[0m",
      "\u001b[0;31mValueError\u001b[0m                                Traceback (most recent call last)",
      "Cell \u001b[0;32mIn[18], line 1\u001b[0m\n\u001b[0;32m----> 1\u001b[0m a,b,c \u001b[38;5;241m=\u001b[39m \u001b[38;5;28;01mTrue\u001b[39;00m,\u001b[38;5;241m2\u001b[39m\n",
      "\u001b[0;31mValueError\u001b[0m: not enough values to unpack (expected 3, got 2)"
     ]
    }
   ],
   "source": [
    "a,b,c = True,2"
   ]
  },
  {
   "cell_type": "code",
   "execution_count": 19,
   "id": "bfbf2994-d6b5-423b-8fbe-20c772fc5770",
   "metadata": {},
   "outputs": [
    {
     "data": {
      "text/plain": [
       "(2, 3, 'f')"
      ]
     },
     "execution_count": 19,
     "metadata": {},
     "output_type": "execute_result"
    }
   ],
   "source": [
    "a1"
   ]
  },
  {
   "cell_type": "code",
   "execution_count": 20,
   "id": "12585c7b-50ba-493a-908d-9e37527c25d2",
   "metadata": {},
   "outputs": [
    {
     "data": {
      "text/plain": [
       "(6, 43, 'dd', 44.44, [2, 3, 4])"
      ]
     },
     "execution_count": 20,
     "metadata": {},
     "output_type": "execute_result"
    }
   ],
   "source": [
    "m2()"
   ]
  },
  {
   "cell_type": "code",
   "execution_count": 21,
   "id": "1a90391e-6270-4295-b14e-ebed79ee0ade",
   "metadata": {},
   "outputs": [
    {
     "data": {
      "text/plain": [
       "[2, 3, 4]"
      ]
     },
     "execution_count": 21,
     "metadata": {},
     "output_type": "execute_result"
    }
   ],
   "source": [
    "m2()[4]"
   ]
  },
  {
   "cell_type": "code",
   "execution_count": 22,
   "id": "580c4c00-3cae-41e2-973d-d4fc7d4a0766",
   "metadata": {},
   "outputs": [
    {
     "data": {
      "text/plain": [
       "4"
      ]
     },
     "execution_count": 22,
     "metadata": {},
     "output_type": "execute_result"
    }
   ],
   "source": [
    "m2()[4][2]"
   ]
  },
  {
   "cell_type": "code",
   "execution_count": 23,
   "id": "dd94b5d8-2073-4223-8234-6dc47ca5083f",
   "metadata": {},
   "outputs": [],
   "source": [
    "a,b,c,d,e =m2()"
   ]
  },
  {
   "cell_type": "code",
   "execution_count": 24,
   "id": "5ab07df2-2b0d-432c-a899-c278418b1354",
   "metadata": {},
   "outputs": [
    {
     "data": {
      "text/plain": [
       "[2, 3, 4]"
      ]
     },
     "execution_count": 24,
     "metadata": {},
     "output_type": "execute_result"
    }
   ],
   "source": [
    "e"
   ]
  },
  {
   "cell_type": "code",
   "execution_count": 25,
   "id": "bdcb6938-7166-47ec-8e60-462f4fd4b214",
   "metadata": {},
   "outputs": [
    {
     "data": {
      "text/plain": [
       "'dd'"
      ]
     },
     "execution_count": 25,
     "metadata": {},
     "output_type": "execute_result"
    }
   ],
   "source": [
    "c"
   ]
  },
  {
   "cell_type": "code",
   "execution_count": 26,
   "id": "8dab82a6-1a21-4243-bf39-3b3fda15a3ee",
   "metadata": {},
   "outputs": [],
   "source": [
    "g,h,f=m2()[4]"
   ]
  },
  {
   "cell_type": "code",
   "execution_count": 27,
   "id": "5000ad60-405d-485e-9257-fbe8ed87510a",
   "metadata": {},
   "outputs": [
    {
     "data": {
      "text/plain": [
       "2"
      ]
     },
     "execution_count": 27,
     "metadata": {},
     "output_type": "execute_result"
    }
   ],
   "source": [
    "g"
   ]
  },
  {
   "cell_type": "code",
   "execution_count": 28,
   "id": "3032f0b6-0bcd-4a85-8b50-544c1d74f57c",
   "metadata": {},
   "outputs": [
    {
     "data": {
      "text/plain": [
       "4"
      ]
     },
     "execution_count": 28,
     "metadata": {},
     "output_type": "execute_result"
    }
   ],
   "source": [
    "f"
   ]
  },
  {
   "cell_type": "code",
   "execution_count": 29,
   "id": "2ae7295d-c4d4-4724-81e3-72ebe5f8bf6d",
   "metadata": {},
   "outputs": [],
   "source": [
    "def m3(a,b):\n",
    "    return a+b;"
   ]
  },
  {
   "cell_type": "code",
   "execution_count": 30,
   "id": "f01ee1fd-a9ed-475d-97e3-03844238641d",
   "metadata": {},
   "outputs": [
    {
     "data": {
      "text/plain": [
       "'AbcYxr'"
      ]
     },
     "execution_count": 30,
     "metadata": {},
     "output_type": "execute_result"
    }
   ],
   "source": [
    "m3('Abc','Yxr')"
   ]
  },
  {
   "cell_type": "code",
   "execution_count": 31,
   "id": "2c718f5d-dd3a-4e1c-8993-902f79e8699a",
   "metadata": {},
   "outputs": [
    {
     "data": {
      "text/plain": [
       "[1, 2, 8, 0, 9]"
      ]
     },
     "execution_count": 31,
     "metadata": {},
     "output_type": "execute_result"
    }
   ],
   "source": [
    "m3([1,2,8],[0,9])"
   ]
  },
  {
   "cell_type": "code",
   "execution_count": 32,
   "id": "0733b484-f006-4e93-99bd-6f97af27d083",
   "metadata": {},
   "outputs": [
    {
     "data": {
      "text/plain": [
       "[0, 9, 1, 2, 3, 4]"
      ]
     },
     "execution_count": 32,
     "metadata": {},
     "output_type": "execute_result"
    }
   ],
   "source": [
    "m3(b=[1,2,3,4],a=[0,9])"
   ]
  },
  {
   "cell_type": "code",
   "execution_count": 39,
   "id": "41f3b09c-4142-47a5-800b-32c1473bbd50",
   "metadata": {},
   "outputs": [],
   "source": [
    "def identify_int(l):\n",
    "    new_list =[]\n",
    "    for i in l:\n",
    "        if type(i) in [list,set,tuple,dict]:\n",
    "            for  j in i:\n",
    "                if type(j) == int or type(j) == float:\n",
    "                    new_list.append(j)\n",
    "        elif type(i) == int or type(i) == float:\n",
    "            new_list.append(i)\n",
    "    return new_list"
   ]
  },
  {
   "cell_type": "code",
   "execution_count": 35,
   "id": "db0b3d7e-4334-46df-b178-a0edd4aa7a47",
   "metadata": {},
   "outputs": [],
   "source": [
    "l1=[1,2,3,True,\"Test\",56.89,False,[55,90.0],(44,\"Yes\",False)]"
   ]
  },
  {
   "cell_type": "code",
   "execution_count": 40,
   "id": "2949d56f-d70f-4519-81e0-afe28474dca9",
   "metadata": {},
   "outputs": [
    {
     "data": {
      "text/plain": [
       "[1, 2, 3, 56.89, 55, 90.0, 44]"
      ]
     },
     "execution_count": 40,
     "metadata": {},
     "output_type": "execute_result"
    }
   ],
   "source": [
    "identify_int(l1)"
   ]
  },
  {
   "cell_type": "code",
   "execution_count": 37,
   "id": "d81bc32d-c4b1-4eee-b4a5-a0ff92fc5c75",
   "metadata": {},
   "outputs": [],
   "source": [
    "def identify_int2(l):\n",
    "    new_list =[]\n",
    "    for i in l:\n",
    "        if type(i) in [list,set,tuple,dict]:\n",
    "            for  j in i:\n",
    "                if type(j) in [int,float]:\n",
    "                    new_list.append(j)\n",
    "        elif type(i) in [int,float]:\n",
    "            new_list.append(i)\n",
    "    return new_list"
   ]
  },
  {
   "cell_type": "code",
   "execution_count": 38,
   "id": "47dde7f0-66ca-4ddf-8407-aed8d62a8919",
   "metadata": {},
   "outputs": [
    {
     "data": {
      "text/plain": [
       "[1, 2, 3, 56.89, 55, 90.0, 44]"
      ]
     },
     "execution_count": 38,
     "metadata": {},
     "output_type": "execute_result"
    }
   ],
   "source": [
    "identify_int2(l1)"
   ]
  },
  {
   "cell_type": "code",
   "execution_count": null,
   "id": "0b2f556f-c77d-4c3f-96d6-b61f686e0868",
   "metadata": {},
   "outputs": [],
   "source": []
  }
 ],
 "metadata": {
  "kernelspec": {
   "display_name": "Python 3 (ipykernel)",
   "language": "python",
   "name": "python3"
  },
  "language_info": {
   "codemirror_mode": {
    "name": "ipython",
    "version": 3
   },
   "file_extension": ".py",
   "mimetype": "text/x-python",
   "name": "python",
   "nbconvert_exporter": "python",
   "pygments_lexer": "ipython3",
   "version": "3.10.8"
  }
 },
 "nbformat": 4,
 "nbformat_minor": 5
}
