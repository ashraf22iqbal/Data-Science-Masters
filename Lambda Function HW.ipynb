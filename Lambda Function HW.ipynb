{
 "cells": [
  {
   "cell_type": "code",
   "execution_count": 1,
   "id": "9dad9fa6-9d27-4230-b21d-e6a130ca5907",
   "metadata": {},
   "outputs": [],
   "source": [
    "def powerCalculation(a,b):\n",
    "    return a**b"
   ]
  },
  {
   "cell_type": "code",
   "execution_count": 2,
   "id": "05a65a46-5c79-416f-b6f2-6489b75b72a4",
   "metadata": {},
   "outputs": [
    {
     "data": {
      "text/plain": [
       "16"
      ]
     },
     "execution_count": 2,
     "metadata": {},
     "output_type": "execute_result"
    }
   ],
   "source": [
    "powerCalculation(4,2)"
   ]
  },
  {
   "cell_type": "code",
   "execution_count": 3,
   "id": "6b6d9f5f-fd7a-48c0-b37c-aa6fc3b7804c",
   "metadata": {},
   "outputs": [
    {
     "data": {
      "text/plain": [
       "64"
      ]
     },
     "execution_count": 3,
     "metadata": {},
     "output_type": "execute_result"
    }
   ],
   "source": [
    "powerCalculation(4,3)"
   ]
  },
  {
   "cell_type": "code",
   "execution_count": 4,
   "id": "4b5d063f-505b-4107-b7c1-db93c97f96c0",
   "metadata": {},
   "outputs": [],
   "source": [
    "pw = lambda a,b: a**b"
   ]
  },
  {
   "cell_type": "code",
   "execution_count": 5,
   "id": "0559eee2-0b32-431f-9176-56466666da2a",
   "metadata": {},
   "outputs": [
    {
     "data": {
      "text/plain": [
       "125"
      ]
     },
     "execution_count": 5,
     "metadata": {},
     "output_type": "execute_result"
    }
   ],
   "source": [
    "pw(5,3)"
   ]
  },
  {
   "cell_type": "code",
   "execution_count": 6,
   "id": "b70ff852-9219-4b44-8205-6d943cbd9806",
   "metadata": {},
   "outputs": [],
   "source": [
    "equal = lambda a,b: a is b"
   ]
  },
  {
   "cell_type": "code",
   "execution_count": 7,
   "id": "19539c81-2557-4171-90c0-a6c4debc351d",
   "metadata": {},
   "outputs": [
    {
     "data": {
      "text/plain": [
       "False"
      ]
     },
     "execution_count": 7,
     "metadata": {},
     "output_type": "execute_result"
    }
   ],
   "source": [
    "equal([1,2,3],[1,2,3])"
   ]
  },
  {
   "cell_type": "code",
   "execution_count": 9,
   "id": "b9aef88e-8274-45db-87ce-c1c866ca8b5f",
   "metadata": {},
   "outputs": [],
   "source": [
    "equal2 = lambda a,b: a == b"
   ]
  },
  {
   "cell_type": "code",
   "execution_count": 10,
   "id": "0601bc6a-a3d6-4ff5-8ffe-2b3fbb811532",
   "metadata": {},
   "outputs": [
    {
     "data": {
      "text/plain": [
       "True"
      ]
     },
     "execution_count": 10,
     "metadata": {},
     "output_type": "execute_result"
    }
   ],
   "source": [
    "equal2([1,2,3],[1,2,3])"
   ]
  },
  {
   "cell_type": "code",
   "execution_count": null,
   "id": "770ca325-e133-4e76-b145-a0c314e4a7b4",
   "metadata": {},
   "outputs": [],
   "source": []
  }
 ],
 "metadata": {
  "kernelspec": {
   "display_name": "Python 3 (ipykernel)",
   "language": "python",
   "name": "python3"
  },
  "language_info": {
   "codemirror_mode": {
    "name": "ipython",
    "version": 3
   },
   "file_extension": ".py",
   "mimetype": "text/x-python",
   "name": "python",
   "nbconvert_exporter": "python",
   "pygments_lexer": "ipython3",
   "version": "3.10.8"
  }
 },
 "nbformat": 4,
 "nbformat_minor": 5
}
