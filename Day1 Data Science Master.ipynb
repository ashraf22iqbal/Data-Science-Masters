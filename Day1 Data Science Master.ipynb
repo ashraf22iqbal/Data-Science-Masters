{
 "cells": [
  {
   "cell_type": "code",
   "execution_count": 1,
   "id": "c85f7d8f-efbb-4ff5-8df7-b231e2f2f0ba",
   "metadata": {},
   "outputs": [
    {
     "name": "stdout",
     "output_type": "stream",
     "text": [
      "20\n"
     ]
    }
   ],
   "source": [
    "a=20\n",
    "print(a)"
   ]
  },
  {
   "cell_type": "code",
   "execution_count": 3,
   "id": "1caa4c7f-8396-401e-b476-9ad31b158f01",
   "metadata": {},
   "outputs": [
    {
     "name": "stdout",
     "output_type": "stream",
     "text": [
      "30\n"
     ]
    }
   ],
   "source": [
    "print(a)"
   ]
  },
  {
   "cell_type": "code",
   "execution_count": 5,
   "id": "1aa54a32-997f-4efa-bf5e-e69e6b1ecc0c",
   "metadata": {},
   "outputs": [
    {
     "data": {
      "text/plain": [
       "1344"
      ]
     },
     "execution_count": 5,
     "metadata": {},
     "output_type": "execute_result"
    }
   ],
   "source": [
    "1111+233"
   ]
  },
  {
   "cell_type": "code",
   "execution_count": 6,
   "id": "b1ea2833-af9f-4055-96a9-15d386020d76",
   "metadata": {},
   "outputs": [
    {
     "data": {
      "text/plain": [
       "20"
      ]
     },
     "execution_count": 6,
     "metadata": {},
     "output_type": "execute_result"
    }
   ],
   "source": [
    "# this\n",
    "## What\n",
    "\"\"\" Multiline comments \n",
    "Test\n",
    "Test\n",
    "\"\"\"\n",
    "a=20\n",
    "a"
   ]
  },
  {
   "cell_type": "code",
   "execution_count": 11,
   "id": "efa24d82-f811-4036-a8b6-6e2722608d23",
   "metadata": {},
   "outputs": [],
   "source": [
    "## Numbers"
   ]
  },
  {
   "cell_type": "code",
   "execution_count": 13,
   "id": "9ceb3b94-74dc-4bde-932e-80a9ce6d8751",
   "metadata": {},
   "outputs": [
    {
     "name": "stdout",
     "output_type": "stream",
     "text": [
      "Hellow World \n",
      " India\n"
     ]
    }
   ],
   "source": [
    "print(\"Hellow World \\n India\")"
   ]
  },
  {
   "cell_type": "markdown",
   "id": "05f6a5d9-8a81-4225-97b7-be3ecca50ff4",
   "metadata": {},
   "source": [
    "### Variable assignment"
   ]
  },
  {
   "cell_type": "code",
   "execution_count": 19,
   "id": "5d18ca42-44f7-49d5-aaa7-96a25f51295c",
   "metadata": {},
   "outputs": [],
   "source": [
    "name=\"ashraf\"\n",
    "company=\"KPMG\""
   ]
  },
  {
   "cell_type": "code",
   "execution_count": 20,
   "id": "2b971363-e869-46b3-9355-b65dcf31db2a",
   "metadata": {},
   "outputs": [
    {
     "data": {
      "text/plain": [
       "'ashraf'"
      ]
     },
     "execution_count": 20,
     "metadata": {},
     "output_type": "execute_result"
    }
   ],
   "source": [
    "name"
   ]
  },
  {
   "cell_type": "code",
   "execution_count": 21,
   "id": "e4e29519-5957-434b-9df9-b17c004c2e31",
   "metadata": {},
   "outputs": [
    {
     "data": {
      "text/plain": [
       "'KPMG'"
      ]
     },
     "execution_count": 21,
     "metadata": {},
     "output_type": "execute_result"
    }
   ],
   "source": [
    "company"
   ]
  },
  {
   "cell_type": "code",
   "execution_count": 22,
   "id": "57c65279-dacd-403d-a37b-2b1dda5ca1a7",
   "metadata": {},
   "outputs": [],
   "source": [
    "name=\"Iqbal\""
   ]
  },
  {
   "cell_type": "code",
   "execution_count": 23,
   "id": "80b51296-354a-456a-bcfe-85e363bc63b1",
   "metadata": {},
   "outputs": [
    {
     "data": {
      "text/plain": [
       "'Iqbal'"
      ]
     },
     "execution_count": 23,
     "metadata": {},
     "output_type": "execute_result"
    }
   ],
   "source": [
    "name"
   ]
  },
  {
   "cell_type": "code",
   "execution_count": 24,
   "id": "b5cc7c53-6ffa-484b-911c-bb7af61a81ce",
   "metadata": {},
   "outputs": [
    {
     "data": {
      "text/plain": [
       "int"
      ]
     },
     "execution_count": 24,
     "metadata": {},
     "output_type": "execute_result"
    }
   ],
   "source": [
    "type(5)"
   ]
  },
  {
   "cell_type": "code",
   "execution_count": 25,
   "id": "ac27868b-1f83-42fc-affc-445d2daec93d",
   "metadata": {},
   "outputs": [
    {
     "data": {
      "text/plain": [
       "str"
      ]
     },
     "execution_count": 25,
     "metadata": {},
     "output_type": "execute_result"
    }
   ],
   "source": [
    "type('')"
   ]
  },
  {
   "cell_type": "code",
   "execution_count": 26,
   "id": "13b0bd43-e0a0-4388-b4a9-567787390fcd",
   "metadata": {},
   "outputs": [
    {
     "data": {
      "text/plain": [
       "float"
      ]
     },
     "execution_count": 26,
     "metadata": {},
     "output_type": "execute_result"
    }
   ],
   "source": [
    "type(63263623632.3232)"
   ]
  },
  {
   "cell_type": "code",
   "execution_count": 27,
   "id": "3d55d41f-7bc9-4502-9eba-6c6d691e5d70",
   "metadata": {},
   "outputs": [
    {
     "data": {
      "text/plain": [
       "str"
      ]
     },
     "execution_count": 27,
     "metadata": {},
     "output_type": "execute_result"
    }
   ],
   "source": [
    "type(company)"
   ]
  },
  {
   "cell_type": "code",
   "execution_count": 28,
   "id": "361b4b68-27f7-47d3-ae6c-50c29127b126",
   "metadata": {},
   "outputs": [
    {
     "data": {
      "text/plain": [
       "int"
      ]
     },
     "execution_count": 28,
     "metadata": {},
     "output_type": "execute_result"
    }
   ],
   "source": [
    "type(a)"
   ]
  },
  {
   "cell_type": "code",
   "execution_count": 30,
   "id": "a7340520-88ab-4cca-ab4c-f7ba2ea06b73",
   "metadata": {},
   "outputs": [
    {
     "data": {
      "text/plain": [
       "False"
      ]
     },
     "execution_count": 30,
     "metadata": {},
     "output_type": "execute_result"
    }
   ],
   "source": [
    "True and False"
   ]
  },
  {
   "cell_type": "code",
   "execution_count": 31,
   "id": "38a1c7f8-9efc-4bb2-ad26-5811e0161314",
   "metadata": {},
   "outputs": [
    {
     "data": {
      "text/plain": [
       "True"
      ]
     },
     "execution_count": 31,
     "metadata": {},
     "output_type": "execute_result"
    }
   ],
   "source": [
    "True or False"
   ]
  },
  {
   "cell_type": "code",
   "execution_count": 33,
   "id": "b802a9e2-e7e4-47fb-a7cf-257a140dda6d",
   "metadata": {},
   "outputs": [
    {
     "data": {
      "text/plain": [
       "True"
      ]
     },
     "execution_count": 33,
     "metadata": {},
     "output_type": "execute_result"
    }
   ],
   "source": [
    "bool(0)\n",
    "bool(1)\n",
    "\n",
    "bool(666)"
   ]
  },
  {
   "cell_type": "code",
   "execution_count": 36,
   "id": "1cb1e388-4c8f-41cb-854b-ca42cb9f7851",
   "metadata": {},
   "outputs": [
    {
     "data": {
      "text/plain": [
       "True"
      ]
     },
     "execution_count": 36,
     "metadata": {},
     "output_type": "execute_result"
    }
   ],
   "source": [
    "bool(1000)"
   ]
  },
  {
   "cell_type": "code",
   "execution_count": 1,
   "id": "ed169aad-1976-4328-9fd7-579d145ff01d",
   "metadata": {},
   "outputs": [
    {
     "data": {
      "text/plain": [
       "'33'"
      ]
     },
     "execution_count": 1,
     "metadata": {},
     "output_type": "execute_result"
    }
   ],
   "source": [
    "str(33)"
   ]
  },
  {
   "cell_type": "code",
   "execution_count": 2,
   "id": "5649a4f0-35c7-4c8b-83e6-d39e0b6e64db",
   "metadata": {},
   "outputs": [
    {
     "name": "stdout",
     "output_type": "stream",
     "text": [
      "<class 'int'>\n"
     ]
    }
   ],
   "source": [
    "a=10\n",
    "print(type(a))"
   ]
  },
  {
   "cell_type": "code",
   "execution_count": 3,
   "id": "1c9d1635-40c6-4f65-80a6-ffd7884b466a",
   "metadata": {},
   "outputs": [
    {
     "name": "stdout",
     "output_type": "stream",
     "text": [
      "<class 'str'>\n"
     ]
    }
   ],
   "source": [
    "a=10;\n",
    "a=\"BAvv\"\n",
    "print(type(a))"
   ]
  },
  {
   "cell_type": "code",
   "execution_count": 4,
   "id": "118eb41c-d2b1-441d-a7d0-cf45ff40ceef",
   "metadata": {},
   "outputs": [
    {
     "data": {
      "text/plain": [
       "1"
      ]
     },
     "execution_count": 4,
     "metadata": {},
     "output_type": "execute_result"
    }
   ],
   "source": [
    "int(1.59)"
   ]
  },
  {
   "cell_type": "code",
   "execution_count": 5,
   "id": "bf25658a-aa56-4fd0-949e-1ede77ed89ef",
   "metadata": {},
   "outputs": [
    {
     "data": {
      "text/plain": [
       "1"
      ]
     },
     "execution_count": 5,
     "metadata": {},
     "output_type": "execute_result"
    }
   ],
   "source": [
    "int(1.99)"
   ]
  },
  {
   "cell_type": "code",
   "execution_count": 7,
   "id": "c976696c-a81e-4265-b2db-06e3f079f585",
   "metadata": {},
   "outputs": [
    {
     "data": {
      "text/plain": [
       "int"
      ]
     },
     "execution_count": 7,
     "metadata": {},
     "output_type": "execute_result"
    }
   ],
   "source": [
    "type(int(\"1\"+\"1\"))"
   ]
  },
  {
   "cell_type": "code",
   "execution_count": 8,
   "id": "bdc62660-5ed7-4dea-8a24-79092409b72a",
   "metadata": {},
   "outputs": [
    {
     "data": {
      "text/plain": [
       "'AshAshAshAshAshAshAshAshAshAshAshAshAshAshAshAshAshAshAshAsh'"
      ]
     },
     "execution_count": 8,
     "metadata": {},
     "output_type": "execute_result"
    }
   ],
   "source": [
    "\"Ash\" * 20"
   ]
  },
  {
   "cell_type": "code",
   "execution_count": 9,
   "id": "b323e84d-d1be-4429-94d1-4e8dd10bbbce",
   "metadata": {},
   "outputs": [
    {
     "data": {
      "text/plain": [
       "400"
      ]
     },
     "execution_count": 9,
     "metadata": {},
     "output_type": "execute_result"
    }
   ],
   "source": [
    "20*20"
   ]
  },
  {
   "cell_type": "code",
   "execution_count": null,
   "id": "e2497784-531e-4bb3-956a-650507de2c7d",
   "metadata": {},
   "outputs": [],
   "source": [
    "bool(7)"
   ]
  }
 ],
 "metadata": {
  "kernelspec": {
   "display_name": "Python 3 (ipykernel)",
   "language": "python",
   "name": "python3"
  },
  "language_info": {
   "codemirror_mode": {
    "name": "ipython",
    "version": 3
   },
   "file_extension": ".py",
   "mimetype": "text/x-python",
   "name": "python",
   "nbconvert_exporter": "python",
   "pygments_lexer": "ipython3",
   "version": "3.10.8"
  }
 },
 "nbformat": 4,
 "nbformat_minor": 5
}
